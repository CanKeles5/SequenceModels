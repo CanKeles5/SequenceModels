{
  "nbformat": 4,
  "nbformat_minor": 0,
  "metadata": {
    "colab": {
      "name": "TEIAŞ-LSTM",
      "provenance": [],
      "collapsed_sections": [],
      "authorship_tag": "ABX9TyPfqq0MhKiNjG1gKc++yi6z",
      "include_colab_link": true
    },
    "kernelspec": {
      "name": "python3",
      "display_name": "Python 3"
    },
    "accelerator": "GPU"
  },
  "cells": [
    {
      "cell_type": "markdown",
      "metadata": {
        "id": "view-in-github",
        "colab_type": "text"
      },
      "source": [
        "<a href=\"https://colab.research.google.com/github/CanKeles5/SequenceModels/blob/main/TEIA%C5%9E_LSTM.ipynb\" target=\"_parent\"><img src=\"https://colab.research.google.com/assets/colab-badge.svg\" alt=\"Open In Colab\"/></a>"
      ]
    },
    {
      "cell_type": "markdown",
      "metadata": {
        "id": "5k1iETbjt3vC"
      },
      "source": [
        "To-Do:\r\n",
        "  Train using only one feature. NaturalGas\r\n",
        "\r\n",
        "  Inspect the data and drop columns that are too sparse. See how many of the values in each col are zero.\r\n",
        "\r\n",
        "++++ 1-  Give all features except total and natural gas and predict NG.\r\n",
        "\r\n",
        "\r\n",
        "2-  Use 1-2 years data and do forecasting. "
      ]
    },
    {
      "cell_type": "markdown",
      "metadata": {
        "id": "mTHrr4Jat3NT"
      },
      "source": [
        ""
      ]
    },
    {
      "cell_type": "code",
      "metadata": {
        "id": "4pe94wvjeVIK"
      },
      "source": [
        "import torch\r\n",
        "torch.cuda.is_available()\r\n",
        "if torch.cuda.is_available():\r\n",
        "  dev = \"cuda:0\"\r\n",
        "else:\r\n",
        "  dev = \"cpu\"\r\n",
        "device = torch.device(dev)"
      ],
      "execution_count": null,
      "outputs": []
    },
    {
      "cell_type": "code",
      "metadata": {
        "colab": {
          "base_uri": "https://localhost:8080/"
        },
        "id": "GLnNKJCleZIW",
        "outputId": "d1ae9f0c-1326-444d-b170-87398db2a94f"
      },
      "source": [
        "device"
      ],
      "execution_count": null,
      "outputs": [
        {
          "output_type": "execute_result",
          "data": {
            "text/plain": [
              "device(type='cuda', index=0)"
            ]
          },
          "metadata": {
            "tags": []
          },
          "execution_count": 2
        }
      ]
    },
    {
      "cell_type": "code",
      "metadata": {
        "id": "pQcVLbbQncsR"
      },
      "source": [
        "%matplotlib inline"
      ],
      "execution_count": null,
      "outputs": []
    },
    {
      "cell_type": "code",
      "metadata": {
        "colab": {
          "base_uri": "https://localhost:8080/"
        },
        "id": "4Y101PUHcuAh",
        "outputId": "f3d9547d-97b5-4f3c-bb8f-2af583db5790"
      },
      "source": [
        "! pip install pickle5"
      ],
      "execution_count": null,
      "outputs": [
        {
          "output_type": "stream",
          "text": [
            "Collecting pickle5\n",
            "\u001b[?25l  Downloading https://files.pythonhosted.org/packages/f7/4c/5c4dd0462c8d3a6bc4af500a6af240763c2ebd1efdc736fc2c946d44b70a/pickle5-0.0.11.tar.gz (132kB)\n",
            "\r\u001b[K     |██▌                             | 10kB 23.4MB/s eta 0:00:01\r\u001b[K     |█████                           | 20kB 13.6MB/s eta 0:00:01\r\u001b[K     |███████▍                        | 30kB 12.4MB/s eta 0:00:01\r\u001b[K     |██████████                      | 40kB 12.0MB/s eta 0:00:01\r\u001b[K     |████████████▍                   | 51kB 8.6MB/s eta 0:00:01\r\u001b[K     |██████████████▉                 | 61kB 9.2MB/s eta 0:00:01\r\u001b[K     |█████████████████▍              | 71kB 9.1MB/s eta 0:00:01\r\u001b[K     |███████████████████▉            | 81kB 10.1MB/s eta 0:00:01\r\u001b[K     |██████████████████████▎         | 92kB 9.3MB/s eta 0:00:01\r\u001b[K     |████████████████████████▉       | 102kB 8.6MB/s eta 0:00:01\r\u001b[K     |███████████████████████████▎    | 112kB 8.6MB/s eta 0:00:01\r\u001b[K     |█████████████████████████████▊  | 122kB 8.6MB/s eta 0:00:01\r\u001b[K     |████████████████████████████████| 133kB 8.6MB/s \n",
            "\u001b[?25hBuilding wheels for collected packages: pickle5\n",
            "  Building wheel for pickle5 (setup.py) ... \u001b[?25l\u001b[?25hdone\n",
            "  Created wheel for pickle5: filename=pickle5-0.0.11-cp36-cp36m-linux_x86_64.whl size=218610 sha256=48723d160b471f90ff82d98c154e671c915e39ef21acbce56b55efcf6076ce09\n",
            "  Stored in directory: /root/.cache/pip/wheels/a6/90/95/f889ca4aa8b0e0c7f21c8470b6f5d6032f0390a3a141a9a3bd\n",
            "Successfully built pickle5\n",
            "Installing collected packages: pickle5\n",
            "Successfully installed pickle5-0.0.11\n"
          ],
          "name": "stdout"
        }
      ]
    },
    {
      "cell_type": "code",
      "metadata": {
        "id": "8lgRPeJqndlf"
      },
      "source": [
        "import pickle5\r\n",
        "from math import sqrt\r\n",
        "from datetime import datetime\r\n",
        "from numpy import concatenate\r\n",
        "from matplotlib import pyplot\r\n",
        "from pandas import read_csv\r\n",
        "from pandas import DataFrame\r\n",
        "from pandas import concat\r\n",
        "from sklearn.preprocessing import MinMaxScaler\r\n",
        "from sklearn.preprocessing import LabelEncoder\r\n",
        "from sklearn.metrics import mean_squared_error\r\n",
        "import torch\r\n",
        "import torch.nn as nn\r\n",
        "import torch.nn.functional as F\r\n",
        "import torch.optim as optim"
      ],
      "execution_count": null,
      "outputs": []
    },
    {
      "cell_type": "code",
      "metadata": {
        "id": "7iWe2exWcKGo"
      },
      "source": [
        "with open('/content/20210101-epias-raw.pkl', 'rb') as f:\r\n",
        "    data = pickle5.load(f)"
      ],
      "execution_count": null,
      "outputs": []
    },
    {
      "cell_type": "markdown",
      "metadata": {
        "id": "vpC0YYEdjJi-"
      },
      "source": [
        "Drop all colums of zeros: df.loc[:, (df != 0).any(axis=0)]\r\n"
      ]
    },
    {
      "cell_type": "code",
      "metadata": {
        "id": "ORkCVX7vil21"
      },
      "source": [
        "new_data = data.loc[:, (data != 0).any(axis=0)] #(index=False)"
      ],
      "execution_count": null,
      "outputs": []
    },
    {
      "cell_type": "code",
      "metadata": {
        "id": "Kxm-V3TdUcoN"
      },
      "source": [
        "new_data = new_data.sample(frac = 1) "
      ],
      "execution_count": null,
      "outputs": []
    },
    {
      "cell_type": "code",
      "metadata": {
        "id": "VsnV-rVp4PC7"
      },
      "source": [
        "new_data = new_data.drop(['date', 'ltotal',\t'lwind',\t'lbiogas',\t'lcanalType',\t'lbiomass',\t'lsun',\t'lothers', 'total'], axis=1)"
      ],
      "execution_count": null,
      "outputs": []
    },
    {
      "cell_type": "code",
      "metadata": {
        "colab": {
          "base_uri": "https://localhost:8080/",
          "height": 422
        },
        "id": "jJDsGIYRELLy",
        "outputId": "7af0aa73-da5c-45b7-9c1a-ed53d84c97f4"
      },
      "source": [
        "new_data"
      ],
      "execution_count": null,
      "outputs": [
        {
          "output_type": "execute_result",
          "data": {
            "text/html": [
              "<div>\n",
              "<style scoped>\n",
              "    .dataframe tbody tr th:only-of-type {\n",
              "        vertical-align: middle;\n",
              "    }\n",
              "\n",
              "    .dataframe tbody tr th {\n",
              "        vertical-align: top;\n",
              "    }\n",
              "\n",
              "    .dataframe thead th {\n",
              "        text-align: right;\n",
              "    }\n",
              "</style>\n",
              "<table border=\"1\" class=\"dataframe\">\n",
              "  <thead>\n",
              "    <tr style=\"text-align: right;\">\n",
              "      <th></th>\n",
              "      <th>fueloil</th>\n",
              "      <th>blackCoal</th>\n",
              "      <th>lignite</th>\n",
              "      <th>geothermal</th>\n",
              "      <th>naturalGas</th>\n",
              "      <th>river</th>\n",
              "      <th>dammedHydro</th>\n",
              "      <th>lng</th>\n",
              "      <th>biomass</th>\n",
              "      <th>naphta</th>\n",
              "      <th>importCoal</th>\n",
              "      <th>asphaltiteCoal</th>\n",
              "      <th>wind</th>\n",
              "      <th>sun</th>\n",
              "      <th>importExport</th>\n",
              "    </tr>\n",
              "  </thead>\n",
              "  <tbody>\n",
              "    <tr>\n",
              "      <th>22103</th>\n",
              "      <td>163.30</td>\n",
              "      <td>171.00</td>\n",
              "      <td>3849.33</td>\n",
              "      <td>450.76</td>\n",
              "      <td>8457.64</td>\n",
              "      <td>733.60</td>\n",
              "      <td>4185.70</td>\n",
              "      <td>9.4</td>\n",
              "      <td>151.29</td>\n",
              "      <td>0.0</td>\n",
              "      <td>5237.60</td>\n",
              "      <td>134.68</td>\n",
              "      <td>1626.94</td>\n",
              "      <td>0.00</td>\n",
              "      <td>0.00</td>\n",
              "    </tr>\n",
              "    <tr>\n",
              "      <th>18099</th>\n",
              "      <td>182.70</td>\n",
              "      <td>326.50</td>\n",
              "      <td>2949.42</td>\n",
              "      <td>342.76</td>\n",
              "      <td>8046.40</td>\n",
              "      <td>3207.30</td>\n",
              "      <td>2031.98</td>\n",
              "      <td>4.6</td>\n",
              "      <td>133.59</td>\n",
              "      <td>0.0</td>\n",
              "      <td>3937.75</td>\n",
              "      <td>91.73</td>\n",
              "      <td>475.22</td>\n",
              "      <td>0.00</td>\n",
              "      <td>0.00</td>\n",
              "    </tr>\n",
              "    <tr>\n",
              "      <th>56734</th>\n",
              "      <td>35.50</td>\n",
              "      <td>391.53</td>\n",
              "      <td>5172.13</td>\n",
              "      <td>1022.78</td>\n",
              "      <td>2394.62</td>\n",
              "      <td>1057.91</td>\n",
              "      <td>3427.18</td>\n",
              "      <td>0.0</td>\n",
              "      <td>371.74</td>\n",
              "      <td>0.0</td>\n",
              "      <td>7963.31</td>\n",
              "      <td>340.02</td>\n",
              "      <td>1784.65</td>\n",
              "      <td>0.00</td>\n",
              "      <td>364.00</td>\n",
              "    </tr>\n",
              "    <tr>\n",
              "      <th>2132</th>\n",
              "      <td>28.00</td>\n",
              "      <td>206.00</td>\n",
              "      <td>3576.25</td>\n",
              "      <td>0.00</td>\n",
              "      <td>10203.05</td>\n",
              "      <td>111.71</td>\n",
              "      <td>3612.63</td>\n",
              "      <td>4.6</td>\n",
              "      <td>53.41</td>\n",
              "      <td>0.0</td>\n",
              "      <td>2030.00</td>\n",
              "      <td>0.00</td>\n",
              "      <td>287.56</td>\n",
              "      <td>0.00</td>\n",
              "      <td>0.00</td>\n",
              "    </tr>\n",
              "    <tr>\n",
              "      <th>20196</th>\n",
              "      <td>202.30</td>\n",
              "      <td>473.00</td>\n",
              "      <td>3652.99</td>\n",
              "      <td>278.50</td>\n",
              "      <td>16353.19</td>\n",
              "      <td>1934.23</td>\n",
              "      <td>11702.98</td>\n",
              "      <td>8.7</td>\n",
              "      <td>125.59</td>\n",
              "      <td>0.0</td>\n",
              "      <td>5127.74</td>\n",
              "      <td>134.68</td>\n",
              "      <td>1014.36</td>\n",
              "      <td>0.00</td>\n",
              "      <td>0.00</td>\n",
              "    </tr>\n",
              "    <tr>\n",
              "      <th>...</th>\n",
              "      <td>...</td>\n",
              "      <td>...</td>\n",
              "      <td>...</td>\n",
              "      <td>...</td>\n",
              "      <td>...</td>\n",
              "      <td>...</td>\n",
              "      <td>...</td>\n",
              "      <td>...</td>\n",
              "      <td>...</td>\n",
              "      <td>...</td>\n",
              "      <td>...</td>\n",
              "      <td>...</td>\n",
              "      <td>...</td>\n",
              "      <td>...</td>\n",
              "      <td>...</td>\n",
              "    </tr>\n",
              "    <tr>\n",
              "      <th>1878</th>\n",
              "      <td>27.30</td>\n",
              "      <td>147.00</td>\n",
              "      <td>2429.30</td>\n",
              "      <td>0.00</td>\n",
              "      <td>11001.51</td>\n",
              "      <td>74.82</td>\n",
              "      <td>764.00</td>\n",
              "      <td>9.0</td>\n",
              "      <td>50.33</td>\n",
              "      <td>0.0</td>\n",
              "      <td>1953.00</td>\n",
              "      <td>0.00</td>\n",
              "      <td>366.98</td>\n",
              "      <td>0.00</td>\n",
              "      <td>0.00</td>\n",
              "    </tr>\n",
              "    <tr>\n",
              "      <th>60681</th>\n",
              "      <td>29.80</td>\n",
              "      <td>260.59</td>\n",
              "      <td>4293.00</td>\n",
              "      <td>1109.97</td>\n",
              "      <td>2139.51</td>\n",
              "      <td>4548.37</td>\n",
              "      <td>11012.04</td>\n",
              "      <td>0.0</td>\n",
              "      <td>407.94</td>\n",
              "      <td>0.0</td>\n",
              "      <td>4492.96</td>\n",
              "      <td>203.13</td>\n",
              "      <td>3053.73</td>\n",
              "      <td>119.29</td>\n",
              "      <td>-8.15</td>\n",
              "    </tr>\n",
              "    <tr>\n",
              "      <th>53334</th>\n",
              "      <td>200.80</td>\n",
              "      <td>328.00</td>\n",
              "      <td>4401.55</td>\n",
              "      <td>863.52</td>\n",
              "      <td>3767.21</td>\n",
              "      <td>4215.21</td>\n",
              "      <td>12475.76</td>\n",
              "      <td>0.0</td>\n",
              "      <td>378.24</td>\n",
              "      <td>0.0</td>\n",
              "      <td>4715.08</td>\n",
              "      <td>242.88</td>\n",
              "      <td>560.93</td>\n",
              "      <td>56.05</td>\n",
              "      <td>289.95</td>\n",
              "    </tr>\n",
              "    <tr>\n",
              "      <th>7766</th>\n",
              "      <td>274.30</td>\n",
              "      <td>321.50</td>\n",
              "      <td>4192.62</td>\n",
              "      <td>231.98</td>\n",
              "      <td>13170.53</td>\n",
              "      <td>1540.80</td>\n",
              "      <td>5254.26</td>\n",
              "      <td>8.9</td>\n",
              "      <td>96.45</td>\n",
              "      <td>5.0</td>\n",
              "      <td>3610.74</td>\n",
              "      <td>136.89</td>\n",
              "      <td>1144.79</td>\n",
              "      <td>0.00</td>\n",
              "      <td>0.00</td>\n",
              "    </tr>\n",
              "    <tr>\n",
              "      <th>5514</th>\n",
              "      <td>279.35</td>\n",
              "      <td>195.50</td>\n",
              "      <td>4382.39</td>\n",
              "      <td>135.01</td>\n",
              "      <td>12259.03</td>\n",
              "      <td>800.02</td>\n",
              "      <td>9851.72</td>\n",
              "      <td>9.9</td>\n",
              "      <td>96.81</td>\n",
              "      <td>0.0</td>\n",
              "      <td>3742.00</td>\n",
              "      <td>134.68</td>\n",
              "      <td>1646.70</td>\n",
              "      <td>0.00</td>\n",
              "      <td>0.00</td>\n",
              "    </tr>\n",
              "  </tbody>\n",
              "</table>\n",
              "<p>67268 rows × 15 columns</p>\n",
              "</div>"
            ],
            "text/plain": [
              "       fueloil  blackCoal  lignite  ...     wind     sun  importExport\n",
              "22103   163.30     171.00  3849.33  ...  1626.94    0.00          0.00\n",
              "18099   182.70     326.50  2949.42  ...   475.22    0.00          0.00\n",
              "56734    35.50     391.53  5172.13  ...  1784.65    0.00        364.00\n",
              "2132     28.00     206.00  3576.25  ...   287.56    0.00          0.00\n",
              "20196   202.30     473.00  3652.99  ...  1014.36    0.00          0.00\n",
              "...        ...        ...      ...  ...      ...     ...           ...\n",
              "1878     27.30     147.00  2429.30  ...   366.98    0.00          0.00\n",
              "60681    29.80     260.59  4293.00  ...  3053.73  119.29         -8.15\n",
              "53334   200.80     328.00  4401.55  ...   560.93   56.05        289.95\n",
              "7766    274.30     321.50  4192.62  ...  1144.79    0.00          0.00\n",
              "5514    279.35     195.50  4382.39  ...  1646.70    0.00          0.00\n",
              "\n",
              "[67268 rows x 15 columns]"
            ]
          },
          "metadata": {
            "tags": []
          },
          "execution_count": 107
        }
      ]
    },
    {
      "cell_type": "code",
      "metadata": {
        "id": "ZRpdxwU3B7Yi"
      },
      "source": [
        "target = new_data.drop(['fueloil',\t'blackCoal',\t'lignite',\t'geothermal',\t'river',\t'dammedHydro',\t'lng',\t'biomass',\t'naphta',\t'importCoal',\t'asphaltiteCoal',\t'wind',\t'sun',\t'importExport'], axis=1)"
      ],
      "execution_count": null,
      "outputs": []
    },
    {
      "cell_type": "code",
      "metadata": {
        "id": "ygTVHEfcERtq"
      },
      "source": [
        "target = target.to_numpy()"
      ],
      "execution_count": null,
      "outputs": []
    },
    {
      "cell_type": "code",
      "metadata": {
        "id": "vL3RCqnID6JC"
      },
      "source": [
        "data = new_data.drop(['naturalGas'], axis=1)"
      ],
      "execution_count": null,
      "outputs": []
    },
    {
      "cell_type": "code",
      "metadata": {
        "id": "C0FCv2jyEV2s"
      },
      "source": [
        "data = data.to_numpy()"
      ],
      "execution_count": null,
      "outputs": []
    },
    {
      "cell_type": "markdown",
      "metadata": {
        "id": "w_4GBZbldZX-"
      },
      "source": [
        "To-do:\r\n",
        "  Get the data in such a format that it can work with the other notebook.\r\n",
        "  \r\n",
        "  1- Extract the date element.\r\n",
        "\r\n",
        "  2- Normalize all features in the input part of the data.\r\n",
        "\r\n",
        "  3- Create the inputs and the targets.\r\n",
        "\r\n",
        "  4- Create train and test sets.\r\n",
        "\r\n",
        "  5- \r\n",
        "\r\n",
        "  6- "
      ]
    },
    {
      "cell_type": "code",
      "metadata": {
        "colab": {
          "base_uri": "https://localhost:8080/",
          "height": 370
        },
        "id": "lz_o3Bf4boM1",
        "outputId": "39bd3fc2-db24-4df3-a77c-eb2a4b1df640"
      },
      "source": [
        "# integer encode direction\r\n",
        "#encoder = LabelEncoder()\r\n",
        "#new_data[:,4] = encoder.fit_transform(new_data[:,4])\r\n",
        "# ensure all data is float\r\n",
        "\r\n",
        "#values = values.astype('float32')\r\n",
        "# normalize features\r\n",
        "scaler = MinMaxScaler(feature_range=(0, 1))\r\n",
        "data = scaler.fit_transform(data)\r\n",
        "target = scaler.fit_transform(target)\r\n",
        "\r\n",
        "print(data_scaled.shape)\r\n",
        "print(target_scaled.shape)\r\n",
        "#reframed = series_to_supervised(scaled, n_hours, 1)\r\n",
        "#print(reframed.shape)"
      ],
      "execution_count": null,
      "outputs": [
        {
          "output_type": "error",
          "ename": "TypeError",
          "evalue": "ignored",
          "traceback": [
            "\u001b[0;31m---------------------------------------------------------------------------\u001b[0m",
            "\u001b[0;31mTypeError\u001b[0m                                 Traceback (most recent call last)",
            "\u001b[0;32m<ipython-input-144-5fbd733868a4>\u001b[0m in \u001b[0;36m<module>\u001b[0;34m()\u001b[0m\n\u001b[1;32m      7\u001b[0m \u001b[0;31m# normalize features\u001b[0m\u001b[0;34m\u001b[0m\u001b[0;34m\u001b[0m\u001b[0;34m\u001b[0m\u001b[0m\n\u001b[1;32m      8\u001b[0m \u001b[0mscaler\u001b[0m \u001b[0;34m=\u001b[0m \u001b[0mMinMaxScaler\u001b[0m\u001b[0;34m(\u001b[0m\u001b[0mfeature_range\u001b[0m\u001b[0;34m=\u001b[0m\u001b[0;34m(\u001b[0m\u001b[0;36m0\u001b[0m\u001b[0;34m,\u001b[0m \u001b[0;36m1\u001b[0m\u001b[0;34m)\u001b[0m\u001b[0;34m)\u001b[0m\u001b[0;34m\u001b[0m\u001b[0;34m\u001b[0m\u001b[0m\n\u001b[0;32m----> 9\u001b[0;31m \u001b[0mdata\u001b[0m \u001b[0;34m=\u001b[0m \u001b[0mscaler\u001b[0m\u001b[0;34m.\u001b[0m\u001b[0mfit_transform\u001b[0m\u001b[0;34m(\u001b[0m\u001b[0mdata\u001b[0m\u001b[0;34m)\u001b[0m\u001b[0;34m\u001b[0m\u001b[0;34m\u001b[0m\u001b[0m\n\u001b[0m\u001b[1;32m     10\u001b[0m \u001b[0mtarget\u001b[0m \u001b[0;34m=\u001b[0m \u001b[0mscaler\u001b[0m\u001b[0;34m.\u001b[0m\u001b[0mfit_transform\u001b[0m\u001b[0;34m(\u001b[0m\u001b[0mtarget\u001b[0m\u001b[0;34m)\u001b[0m\u001b[0;34m\u001b[0m\u001b[0;34m\u001b[0m\u001b[0m\n\u001b[1;32m     11\u001b[0m \u001b[0;34m\u001b[0m\u001b[0m\n",
            "\u001b[0;32m/usr/local/lib/python3.6/dist-packages/sklearn/base.py\u001b[0m in \u001b[0;36mfit_transform\u001b[0;34m(self, X, y, **fit_params)\u001b[0m\n\u001b[1;32m    569\u001b[0m         \u001b[0;32mif\u001b[0m \u001b[0my\u001b[0m \u001b[0;32mis\u001b[0m \u001b[0;32mNone\u001b[0m\u001b[0;34m:\u001b[0m\u001b[0;34m\u001b[0m\u001b[0;34m\u001b[0m\u001b[0m\n\u001b[1;32m    570\u001b[0m             \u001b[0;31m# fit method of arity 1 (unsupervised transformation)\u001b[0m\u001b[0;34m\u001b[0m\u001b[0;34m\u001b[0m\u001b[0;34m\u001b[0m\u001b[0m\n\u001b[0;32m--> 571\u001b[0;31m             \u001b[0;32mreturn\u001b[0m \u001b[0mself\u001b[0m\u001b[0;34m.\u001b[0m\u001b[0mfit\u001b[0m\u001b[0;34m(\u001b[0m\u001b[0mX\u001b[0m\u001b[0;34m,\u001b[0m \u001b[0;34m**\u001b[0m\u001b[0mfit_params\u001b[0m\u001b[0;34m)\u001b[0m\u001b[0;34m.\u001b[0m\u001b[0mtransform\u001b[0m\u001b[0;34m(\u001b[0m\u001b[0mX\u001b[0m\u001b[0;34m)\u001b[0m\u001b[0;34m\u001b[0m\u001b[0;34m\u001b[0m\u001b[0m\n\u001b[0m\u001b[1;32m    572\u001b[0m         \u001b[0;32melse\u001b[0m\u001b[0;34m:\u001b[0m\u001b[0;34m\u001b[0m\u001b[0;34m\u001b[0m\u001b[0m\n\u001b[1;32m    573\u001b[0m             \u001b[0;31m# fit method of arity 2 (supervised transformation)\u001b[0m\u001b[0;34m\u001b[0m\u001b[0;34m\u001b[0m\u001b[0;34m\u001b[0m\u001b[0m\n",
            "\u001b[0;32m/usr/local/lib/python3.6/dist-packages/sklearn/preprocessing/_data.py\u001b[0m in \u001b[0;36mfit\u001b[0;34m(self, X, y)\u001b[0m\n\u001b[1;32m    337\u001b[0m         \u001b[0;31m# Reset internal state before fitting\u001b[0m\u001b[0;34m\u001b[0m\u001b[0;34m\u001b[0m\u001b[0;34m\u001b[0m\u001b[0m\n\u001b[1;32m    338\u001b[0m         \u001b[0mself\u001b[0m\u001b[0;34m.\u001b[0m\u001b[0m_reset\u001b[0m\u001b[0;34m(\u001b[0m\u001b[0;34m)\u001b[0m\u001b[0;34m\u001b[0m\u001b[0;34m\u001b[0m\u001b[0m\n\u001b[0;32m--> 339\u001b[0;31m         \u001b[0;32mreturn\u001b[0m \u001b[0mself\u001b[0m\u001b[0;34m.\u001b[0m\u001b[0mpartial_fit\u001b[0m\u001b[0;34m(\u001b[0m\u001b[0mX\u001b[0m\u001b[0;34m,\u001b[0m \u001b[0my\u001b[0m\u001b[0;34m)\u001b[0m\u001b[0;34m\u001b[0m\u001b[0;34m\u001b[0m\u001b[0m\n\u001b[0m\u001b[1;32m    340\u001b[0m \u001b[0;34m\u001b[0m\u001b[0m\n\u001b[1;32m    341\u001b[0m     \u001b[0;32mdef\u001b[0m \u001b[0mpartial_fit\u001b[0m\u001b[0;34m(\u001b[0m\u001b[0mself\u001b[0m\u001b[0;34m,\u001b[0m \u001b[0mX\u001b[0m\u001b[0;34m,\u001b[0m \u001b[0my\u001b[0m\u001b[0;34m=\u001b[0m\u001b[0;32mNone\u001b[0m\u001b[0;34m)\u001b[0m\u001b[0;34m:\u001b[0m\u001b[0;34m\u001b[0m\u001b[0;34m\u001b[0m\u001b[0m\n",
            "\u001b[0;32m/usr/local/lib/python3.6/dist-packages/sklearn/preprocessing/_data.py\u001b[0m in \u001b[0;36mpartial_fit\u001b[0;34m(self, X, y)\u001b[0m\n\u001b[1;32m    371\u001b[0m         X = check_array(X,\n\u001b[1;32m    372\u001b[0m                         \u001b[0mestimator\u001b[0m\u001b[0;34m=\u001b[0m\u001b[0mself\u001b[0m\u001b[0;34m,\u001b[0m \u001b[0mdtype\u001b[0m\u001b[0;34m=\u001b[0m\u001b[0mFLOAT_DTYPES\u001b[0m\u001b[0;34m,\u001b[0m\u001b[0;34m\u001b[0m\u001b[0;34m\u001b[0m\u001b[0m\n\u001b[0;32m--> 373\u001b[0;31m                         force_all_finite=\"allow-nan\")\n\u001b[0m\u001b[1;32m    374\u001b[0m \u001b[0;34m\u001b[0m\u001b[0m\n\u001b[1;32m    375\u001b[0m         \u001b[0mdata_min\u001b[0m \u001b[0;34m=\u001b[0m \u001b[0mnp\u001b[0m\u001b[0;34m.\u001b[0m\u001b[0mnanmin\u001b[0m\u001b[0;34m(\u001b[0m\u001b[0mX\u001b[0m\u001b[0;34m,\u001b[0m \u001b[0maxis\u001b[0m\u001b[0;34m=\u001b[0m\u001b[0;36m0\u001b[0m\u001b[0;34m)\u001b[0m\u001b[0;34m\u001b[0m\u001b[0;34m\u001b[0m\u001b[0m\n",
            "\u001b[0;32m/usr/local/lib/python3.6/dist-packages/sklearn/utils/validation.py\u001b[0m in \u001b[0;36mcheck_array\u001b[0;34m(array, accept_sparse, accept_large_sparse, dtype, order, copy, force_all_finite, ensure_2d, allow_nd, ensure_min_samples, ensure_min_features, warn_on_dtype, estimator)\u001b[0m\n\u001b[1;32m    529\u001b[0m                     \u001b[0marray\u001b[0m \u001b[0;34m=\u001b[0m \u001b[0marray\u001b[0m\u001b[0;34m.\u001b[0m\u001b[0mastype\u001b[0m\u001b[0;34m(\u001b[0m\u001b[0mdtype\u001b[0m\u001b[0;34m,\u001b[0m \u001b[0mcasting\u001b[0m\u001b[0;34m=\u001b[0m\u001b[0;34m\"unsafe\"\u001b[0m\u001b[0;34m,\u001b[0m \u001b[0mcopy\u001b[0m\u001b[0;34m=\u001b[0m\u001b[0;32mFalse\u001b[0m\u001b[0;34m)\u001b[0m\u001b[0;34m\u001b[0m\u001b[0;34m\u001b[0m\u001b[0m\n\u001b[1;32m    530\u001b[0m                 \u001b[0;32melse\u001b[0m\u001b[0;34m:\u001b[0m\u001b[0;34m\u001b[0m\u001b[0;34m\u001b[0m\u001b[0m\n\u001b[0;32m--> 531\u001b[0;31m                     \u001b[0marray\u001b[0m \u001b[0;34m=\u001b[0m \u001b[0mnp\u001b[0m\u001b[0;34m.\u001b[0m\u001b[0masarray\u001b[0m\u001b[0;34m(\u001b[0m\u001b[0marray\u001b[0m\u001b[0;34m,\u001b[0m \u001b[0morder\u001b[0m\u001b[0;34m=\u001b[0m\u001b[0morder\u001b[0m\u001b[0;34m,\u001b[0m \u001b[0mdtype\u001b[0m\u001b[0;34m=\u001b[0m\u001b[0mdtype\u001b[0m\u001b[0;34m)\u001b[0m\u001b[0;34m\u001b[0m\u001b[0;34m\u001b[0m\u001b[0m\n\u001b[0m\u001b[1;32m    532\u001b[0m             \u001b[0;32mexcept\u001b[0m \u001b[0mComplexWarning\u001b[0m\u001b[0;34m:\u001b[0m\u001b[0;34m\u001b[0m\u001b[0;34m\u001b[0m\u001b[0m\n\u001b[1;32m    533\u001b[0m                 raise ValueError(\"Complex data not supported\\n\"\n",
            "\u001b[0;32m/usr/local/lib/python3.6/dist-packages/numpy/core/_asarray.py\u001b[0m in \u001b[0;36masarray\u001b[0;34m(a, dtype, order)\u001b[0m\n\u001b[1;32m     81\u001b[0m \u001b[0;34m\u001b[0m\u001b[0m\n\u001b[1;32m     82\u001b[0m     \"\"\"\n\u001b[0;32m---> 83\u001b[0;31m     \u001b[0;32mreturn\u001b[0m \u001b[0marray\u001b[0m\u001b[0;34m(\u001b[0m\u001b[0ma\u001b[0m\u001b[0;34m,\u001b[0m \u001b[0mdtype\u001b[0m\u001b[0;34m,\u001b[0m \u001b[0mcopy\u001b[0m\u001b[0;34m=\u001b[0m\u001b[0;32mFalse\u001b[0m\u001b[0;34m,\u001b[0m \u001b[0morder\u001b[0m\u001b[0;34m=\u001b[0m\u001b[0morder\u001b[0m\u001b[0;34m)\u001b[0m\u001b[0;34m\u001b[0m\u001b[0;34m\u001b[0m\u001b[0m\n\u001b[0m\u001b[1;32m     84\u001b[0m \u001b[0;34m\u001b[0m\u001b[0m\n\u001b[1;32m     85\u001b[0m \u001b[0;34m\u001b[0m\u001b[0m\n",
            "\u001b[0;32m/usr/local/lib/python3.6/dist-packages/torch/tensor.py\u001b[0m in \u001b[0;36m__array__\u001b[0;34m(self, dtype)\u001b[0m\n\u001b[1;32m    630\u001b[0m             \u001b[0;32mreturn\u001b[0m \u001b[0mself\u001b[0m\u001b[0;34m.\u001b[0m\u001b[0mnumpy\u001b[0m\u001b[0;34m(\u001b[0m\u001b[0;34m)\u001b[0m\u001b[0;34m\u001b[0m\u001b[0;34m\u001b[0m\u001b[0m\n\u001b[1;32m    631\u001b[0m         \u001b[0;32melse\u001b[0m\u001b[0;34m:\u001b[0m\u001b[0;34m\u001b[0m\u001b[0;34m\u001b[0m\u001b[0m\n\u001b[0;32m--> 632\u001b[0;31m             \u001b[0;32mreturn\u001b[0m \u001b[0mself\u001b[0m\u001b[0;34m.\u001b[0m\u001b[0mnumpy\u001b[0m\u001b[0;34m(\u001b[0m\u001b[0;34m)\u001b[0m\u001b[0;34m.\u001b[0m\u001b[0mastype\u001b[0m\u001b[0;34m(\u001b[0m\u001b[0mdtype\u001b[0m\u001b[0;34m,\u001b[0m \u001b[0mcopy\u001b[0m\u001b[0;34m=\u001b[0m\u001b[0;32mFalse\u001b[0m\u001b[0;34m)\u001b[0m\u001b[0;34m\u001b[0m\u001b[0;34m\u001b[0m\u001b[0m\n\u001b[0m\u001b[1;32m    633\u001b[0m \u001b[0;34m\u001b[0m\u001b[0m\n\u001b[1;32m    634\u001b[0m     \u001b[0;31m# Wrap Numpy array again in a suitable tensor when done, to support e.g.\u001b[0m\u001b[0;34m\u001b[0m\u001b[0;34m\u001b[0m\u001b[0;34m\u001b[0m\u001b[0m\n",
            "\u001b[0;31mTypeError\u001b[0m: can't convert cuda:0 device type tensor to numpy. Use Tensor.cpu() to copy the tensor to host memory first."
          ]
        }
      ]
    },
    {
      "cell_type": "code",
      "metadata": {
        "id": "kwZivybOFk5-"
      },
      "source": [
        "n_train_hours = 50000\r\n",
        "train_X = data[:n_train_hours, :]\r\n",
        "train_y = target[:n_train_hours, :]\r\n",
        "test_X = data[n_train_hours:, :]\r\n",
        "test_y = target[n_train_hours:, :]"
      ],
      "execution_count": null,
      "outputs": []
    },
    {
      "cell_type": "code",
      "metadata": {
        "colab": {
          "base_uri": "https://localhost:8080/",
          "height": 102
        },
        "id": "wR_bXll1JO-X",
        "outputId": "46e14c32-3a65-44cd-d2d0-90f344ecf89c"
      },
      "source": [
        "'''\r\n",
        "n_train_hours = 50000\r\n",
        "train = reframed[:n_train_hours, :]\r\n",
        "test = reframed[n_train_hours:, :]\r\n",
        "# split into input and outputs\r\n",
        "n_obs = n_hours * n_features\r\n",
        "train_X, train_y = train[:, :n_obs], train[:, -n_features]\r\n",
        "test_X, test_y = test[:, :n_obs], test[:, -n_features]\r\n",
        "print(train_X.shape, len(train_X), train_y.shape)\r\n",
        "# reshape input to be 3D [samples, timesteps, features]\r\n",
        "train_X = train_X.reshape((train_X.shape[0], n_hours, n_features))\r\n",
        "test_X = test_X.reshape((test_X.shape[0], n_hours, n_features))\r\n",
        "print(train_X.shape, train_y.shape, test_X.shape, test_y.shape)\r\n",
        "'''"
      ],
      "execution_count": null,
      "outputs": [
        {
          "output_type": "execute_result",
          "data": {
            "application/vnd.google.colaboratory.intrinsic+json": {
              "type": "string"
            },
            "text/plain": [
              "'\\nn_train_hours = 50000\\ntrain = reframed[:n_train_hours, :]\\ntest = reframed[n_train_hours:, :]\\n# split into input and outputs\\nn_obs = n_hours * n_features\\ntrain_X, train_y = train[:, :n_obs], train[:, -n_features]\\ntest_X, test_y = test[:, :n_obs], test[:, -n_features]\\nprint(train_X.shape, len(train_X), train_y.shape)\\n# reshape input to be 3D [samples, timesteps, features]\\ntrain_X = train_X.reshape((train_X.shape[0], n_hours, n_features))\\ntest_X = test_X.reshape((test_X.shape[0], n_hours, n_features))\\nprint(train_X.shape, train_y.shape, test_X.shape, test_y.shape)\\n'"
            ]
          },
          "metadata": {
            "tags": []
          },
          "execution_count": 141
        }
      ]
    },
    {
      "cell_type": "code",
      "metadata": {
        "id": "uxKd-1FeSfGz",
        "colab": {
          "base_uri": "https://localhost:8080/"
        },
        "outputId": "36e6b52f-b0ca-4424-954f-3e95f2016096"
      },
      "source": [
        "train_X[0]"
      ],
      "execution_count": null,
      "outputs": [
        {
          "output_type": "execute_result",
          "data": {
            "text/plain": [
              "tensor([[3.4160e-02, 0.0000e+00, 7.5076e-02, 2.9382e-03, 4.3775e-02, 3.1613e-02,\n",
              "         4.8438e-01, 1.3818e-02, 0.0000e+00, 1.3406e-01, 9.5261e-04, 2.9150e-04,\n",
              "         5.6725e-03, 7.4520e-01, 1.0881e-01]], device='cuda:0')"
            ]
          },
          "metadata": {
            "tags": []
          },
          "execution_count": 142
        }
      ]
    },
    {
      "cell_type": "code",
      "metadata": {
        "colab": {
          "base_uri": "https://localhost:8080/"
        },
        "id": "LJrymqZwSdFC",
        "outputId": "fc4fd773-5f8e-4c1c-fdb1-3dc138aacfc3"
      },
      "source": [
        "train_y[10]"
      ],
      "execution_count": null,
      "outputs": [
        {
          "output_type": "execute_result",
          "data": {
            "text/plain": [
              "array([0.72496243])"
            ]
          },
          "metadata": {
            "tags": []
          },
          "execution_count": 143
        }
      ]
    },
    {
      "cell_type": "code",
      "metadata": {
        "colab": {
          "base_uri": "https://localhost:8080/"
        },
        "id": "YJ8oNNJsSWnW",
        "outputId": "e5abfb2e-dc79-45ee-bc21-e5e0f0380250"
      },
      "source": [
        "print(n_obs)"
      ],
      "execution_count": null,
      "outputs": [
        {
          "output_type": "stream",
          "text": [
            "15\n"
          ],
          "name": "stdout"
        }
      ]
    },
    {
      "cell_type": "code",
      "metadata": {
        "id": "48mDYPiiJfxt"
      },
      "source": [
        "class LSTM(nn.Module):\r\n",
        "\r\n",
        "  def __init__(self):\r\n",
        "    super(LSTM, self).__init__()\r\n",
        "\r\n",
        "    self.lstm = nn.LSTM(input_size=14, hidden_size=50, num_layers=1)\r\n",
        "    self.FC = nn.Linear(50, 1)\r\n",
        "\r\n",
        "  def forward(self, input):\r\n",
        "    pred, _ = self.lstm(input)\r\n",
        "\r\n",
        "    pred = self.FC(pred.view(50))\r\n",
        "\r\n",
        "    return pred"
      ],
      "execution_count": null,
      "outputs": []
    },
    {
      "cell_type": "code",
      "metadata": {
        "id": "oF0ge_gOJiTi"
      },
      "source": [
        "model = LSTM().to(device)"
      ],
      "execution_count": null,
      "outputs": []
    },
    {
      "cell_type": "code",
      "metadata": {
        "id": "7iuxhjBXJiQm"
      },
      "source": [
        "loss_function = nn.L1Loss()\r\n",
        "optimizer = optim.Adam(model.parameters(), lr=1e-5)"
      ],
      "execution_count": null,
      "outputs": []
    },
    {
      "cell_type": "code",
      "metadata": {
        "id": "YwdaiI0bJiNY"
      },
      "source": [
        "train_loss_hist = []\r\n",
        "test_loss_hist = []"
      ],
      "execution_count": null,
      "outputs": []
    },
    {
      "cell_type": "code",
      "metadata": {
        "colab": {
          "base_uri": "https://localhost:8080/"
        },
        "id": "GuK7hmMvVbJD",
        "outputId": "f7509141-3fae-479a-85c4-b552e0fbea35"
      },
      "source": [
        "train_X"
      ],
      "execution_count": null,
      "outputs": [
        {
          "output_type": "execute_result",
          "data": {
            "text/plain": [
              "tensor([[[3.4160e-02, 0.0000e+00, 7.5076e-02, 2.9382e-03, 4.3775e-02,\n",
              "          3.1613e-02, 4.8438e-01, 1.3818e-02, 0.0000e+00, 1.3406e-01,\n",
              "          9.5261e-04, 2.9150e-04, 5.6725e-03, 7.4520e-01, 1.0881e-01]]],\n",
              "       device='cuda:0')"
            ]
          },
          "metadata": {
            "tags": []
          },
          "execution_count": 138
        }
      ]
    },
    {
      "cell_type": "code",
      "metadata": {
        "id": "70IW6m21JiKJ",
        "colab": {
          "base_uri": "https://localhost:8080/",
          "height": 229
        },
        "outputId": "d20c4809-0935-4ce6-b777-d9535c6dd00c"
      },
      "source": [
        "for epoch in range(20):\r\n",
        "  train_loss = 0.0\r\n",
        "  test_loss = 0.0\r\n",
        "\r\n",
        "  for i in range(train_X.shape[0]):\r\n",
        "    data = torch.Tensor(train_X[i]).unsqueeze(0) #.unsqueeze(0)    \r\n",
        "    data = data.to(device)\r\n",
        "\r\n",
        "    optimizer.zero_grad()\r\n",
        "\r\n",
        "    prediction = model(data)\r\n",
        "\r\n",
        "    #print(\"Train --- prediction: \" + str(prediction) + \" , GT: \" + str(train_y[i]))\r\n",
        "\r\n",
        "    loss = loss_function(prediction, torch.Tensor([train_y[i]]).to(device))\r\n",
        "\r\n",
        "    train_loss += loss.item()\r\n",
        "\r\n",
        "    loss.backward()\r\n",
        "    optimizer.step()\r\n",
        "\r\n",
        "  with torch.no_grad():\r\n",
        "    for i in range(test_X.shape[0]):\r\n",
        "      data = torch.Tensor(test_X[i]).unsqueeze(0)#.unsqueeze(0)\r\n",
        "      data = data.to(device)\r\n",
        "\r\n",
        "      prediction = model(data)\r\n",
        "\r\n",
        "      #print(\"Validate --- prediction: \" + str(prediction) + \" , GT: \" + str(test_y[i]))\r\n",
        "\r\n",
        "      loss = loss_function(prediction, torch.Tensor([test_y[i]]).to(device))\r\n",
        "      test_loss += loss.item()\r\n",
        "\r\n",
        "  train_loss = train_loss / train_X.shape[0]\r\n",
        "  test_loss = test_loss / test_X.shape[0]\r\n",
        "\r\n",
        "  train_loss_hist.append(train_loss)\r\n",
        "  test_loss_hist.append(test_loss)\r\n",
        "\r\n",
        "  print(\"Train loss: \" +  str(train_loss) + \" --- Test loss: \" + str(test_loss))\r\n"
      ],
      "execution_count": null,
      "outputs": [
        {
          "output_type": "error",
          "ename": "TypeError",
          "evalue": "ignored",
          "traceback": [
            "\u001b[0;31m---------------------------------------------------------------------------\u001b[0m",
            "\u001b[0;31mTypeError\u001b[0m                                 Traceback (most recent call last)",
            "\u001b[0;32m<ipython-input-137-fbef83b2e962>\u001b[0m in \u001b[0;36m<module>\u001b[0;34m()\u001b[0m\n\u001b[1;32m      4\u001b[0m \u001b[0;34m\u001b[0m\u001b[0m\n\u001b[1;32m      5\u001b[0m   \u001b[0;32mfor\u001b[0m \u001b[0mi\u001b[0m \u001b[0;32min\u001b[0m \u001b[0mrange\u001b[0m\u001b[0;34m(\u001b[0m\u001b[0mtrain_X\u001b[0m\u001b[0;34m.\u001b[0m\u001b[0mshape\u001b[0m\u001b[0;34m[\u001b[0m\u001b[0;36m0\u001b[0m\u001b[0;34m]\u001b[0m\u001b[0;34m)\u001b[0m\u001b[0;34m:\u001b[0m\u001b[0;34m\u001b[0m\u001b[0;34m\u001b[0m\u001b[0m\n\u001b[0;32m----> 6\u001b[0;31m     \u001b[0mdata\u001b[0m \u001b[0;34m=\u001b[0m \u001b[0mtorch\u001b[0m\u001b[0;34m.\u001b[0m\u001b[0mTensor\u001b[0m\u001b[0;34m(\u001b[0m\u001b[0mtrain_X\u001b[0m\u001b[0;34m[\u001b[0m\u001b[0mi\u001b[0m\u001b[0;34m]\u001b[0m\u001b[0;34m)\u001b[0m\u001b[0;34m.\u001b[0m\u001b[0munsqueeze\u001b[0m\u001b[0;34m(\u001b[0m\u001b[0;36m0\u001b[0m\u001b[0;34m)\u001b[0m \u001b[0;31m#.unsqueeze(0)\u001b[0m\u001b[0;34m\u001b[0m\u001b[0;34m\u001b[0m\u001b[0m\n\u001b[0m\u001b[1;32m      7\u001b[0m     \u001b[0mdata\u001b[0m \u001b[0;34m=\u001b[0m \u001b[0mdata\u001b[0m\u001b[0;34m.\u001b[0m\u001b[0mto\u001b[0m\u001b[0;34m(\u001b[0m\u001b[0mdevice\u001b[0m\u001b[0;34m)\u001b[0m\u001b[0;34m\u001b[0m\u001b[0;34m\u001b[0m\u001b[0m\n\u001b[1;32m      8\u001b[0m \u001b[0;34m\u001b[0m\u001b[0m\n",
            "\u001b[0;31mTypeError\u001b[0m: expected CPU (got CUDA)"
          ]
        }
      ]
    },
    {
      "cell_type": "code",
      "metadata": {
        "colab": {
          "base_uri": "https://localhost:8080/",
          "height": 286
        },
        "id": "V0VMCc4zJiHN",
        "outputId": "59b2726d-5b85-4bae-bc52-217f06f40985"
      },
      "source": [
        "pyplot.plot(train_loss_hist)\r\n",
        "pyplot.plot(test_loss_hist)\r\n"
      ],
      "execution_count": null,
      "outputs": [
        {
          "output_type": "execute_result",
          "data": {
            "text/plain": [
              "[<matplotlib.lines.Line2D at 0x7f34eb179160>]"
            ]
          },
          "metadata": {
            "tags": []
          },
          "execution_count": 95
        },
        {
          "output_type": "display_data",
          "data": {
            "image/png": "[encoded data removed]",
            "text/plain": [
              "<Figure size 432x288 with 1 Axes>"
            ]
          },
          "metadata": {
            "tags": [],
            "needs_background": "light"
          }
        }
      ]
    },
    {
      "cell_type": "code",
      "metadata": {
        "id": "6KFvJE4IJjhK"
      },
      "source": [
        ""
      ],
      "execution_count": null,
      "outputs": []
    },
    {
      "cell_type": "code",
      "metadata": {
        "id": "wMNzzBZ6JjeO"
      },
      "source": [
        ""
      ],
      "execution_count": null,
      "outputs": []
    },
    {
      "cell_type": "code",
      "metadata": {
        "id": "e2TG7y-XJjbF"
      },
      "source": [
        ""
      ],
      "execution_count": null,
      "outputs": []
    }
  ]
}