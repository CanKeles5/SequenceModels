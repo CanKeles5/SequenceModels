{
  "nbformat": 4,
  "nbformat_minor": 0,
  "metadata": {
    "colab": {
      "name": "Univariate-Time-Series-Forecasting-LSTM.ipynb",
      "provenance": [],
      "authorship_tag": "ABX9TyPy9vyDSzJE9Ky12M73yO0o",
      "include_colab_link": true
    },
    "kernelspec": {
      "display_name": "Python 3",
      "name": "python3"
    }
  },
  "cells": [
    {
      "cell_type": "markdown",
      "metadata": {
        "id": "view-in-github",
        "colab_type": "text"
      },
      "source": [
        "<a href=\"https://colab.research.google.com/github/CanKeles5/SequenceModels/blob/main/Univariate_Time_Series_Forecasting_LSTM.ipynb\" target=\"_parent\"><img src=\"https://colab.research.google.com/assets/colab-badge.svg\" alt=\"Open In Colab\"/></a>"
      ]
    },
    {
      "cell_type": "code",
      "metadata": {
        "id": "SAokGE9yqtec"
      },
      "source": [
        "from pandas import DataFrame\r\n",
        "from pandas import Series\r\n",
        "from pandas import concat\r\n",
        "from pandas import read_csv\r\n",
        "from pandas import datetime\r\n",
        "from sklearn.metrics import mean_squared_error\r\n",
        "from sklearn.preprocessing import MinMaxScaler\r\n",
        "from keras.models import Sequential\r\n",
        "from keras.layers import Dense\r\n",
        "from keras.layers import LSTM\r\n",
        "from math import sqrt\r\n",
        "from matplotlib import pyplot\r\n",
        "import numpy"
      ],
      "execution_count": 1,
      "outputs": []
    },
    {
      "cell_type": "code",
      "metadata": {
        "id": "yoyzoJCoqwzp"
      },
      "source": [
        "def parser(x):\r\n",
        "\treturn datetime #.strptime('190'+x, '%Y-%m')"
      ],
      "execution_count": null,
      "outputs": []
    },
    {
      "cell_type": "code",
      "metadata": {
        "id": "ajFeIE0jqyvU"
      },
      "source": [
        "def timeseries_to_supervised(data, lag=1):\r\n",
        "\tdf = DataFrame(data)\r\n",
        "\tcolumns = [df.shift(i) for i in range(1, lag+1)]\r\n",
        "\tcolumns.append(df)\r\n",
        "\tdf = concat(columns, axis=1)\r\n",
        "\tdf.fillna(0, inplace=True)\r\n",
        "\treturn df"
      ],
      "execution_count": 2,
      "outputs": []
    },
    {
      "cell_type": "code",
      "metadata": {
        "id": "BMVTChBHq0zE"
      },
      "source": [
        "def difference(dataset, interval=1):\r\n",
        "\tdiff = list()\r\n",
        "\tfor i in range(interval, len(dataset)):\r\n",
        "\t\tvalue = dataset[i] - dataset[i - interval]\r\n",
        "\t\tdiff.append(value)\r\n",
        "\treturn Series(diff)"
      ],
      "execution_count": 3,
      "outputs": []
    },
    {
      "cell_type": "code",
      "metadata": {
        "id": "oahhmWBDq2s8"
      },
      "source": [
        "def inverse_difference(history, yhat, interval=1):\r\n",
        "\treturn yhat + history[-interval]"
      ],
      "execution_count": 4,
      "outputs": []
    },
    {
      "cell_type": "code",
      "metadata": {
        "id": "k89kjHWCq4W-"
      },
      "source": [
        "def scale(train, test):\r\n",
        "\t# fit scaler\r\n",
        "\tscaler = MinMaxScaler(feature_range=(-1, 1))\r\n",
        "\tscaler = scaler.fit(train)\r\n",
        "\t# transform train\r\n",
        "\ttrain = train.reshape(train.shape[0], train.shape[1])\r\n",
        "\ttrain_scaled = scaler.transform(train)\r\n",
        "\t# transform test\r\n",
        "\ttest = test.reshape(test.shape[0], test.shape[1])\r\n",
        "\ttest_scaled = scaler.transform(test)\r\n",
        "\treturn scaler, train_scaled, test_scaled"
      ],
      "execution_count": 5,
      "outputs": []
    },
    {
      "cell_type": "code",
      "metadata": {
        "id": "5UzRjf7Qq9Rq"
      },
      "source": [
        "def invert_scale(scaler, X, value):\r\n",
        "\tnew_row = [x for x in X] + [value]\r\n",
        "\tarray = numpy.array(new_row)\r\n",
        "\tarray = array.reshape(1, len(array))\r\n",
        "\tinverted = scaler.inverse_transform(array)\r\n",
        "\treturn inverted[0, -1]"
      ],
      "execution_count": 6,
      "outputs": []
    },
    {
      "cell_type": "code",
      "metadata": {
        "id": "IWEMrsxmq-1k"
      },
      "source": [
        "def fit_lstm(train, batch_size, nb_epoch, neurons):\r\n",
        "  X, y = train[:, 0:-1], train[:, -1]\r\n",
        "  X = X.reshape(X.shape[0], 1, X.shape[1])\r\n",
        "\r\n",
        "  model = Sequential()\r\n",
        "  model.add(LSTM(neurons, batch_input_shape=(batch_size, X.shape[1], X.shape[2]), stateful=True))\r\n",
        "  model.add(Dense(1))\r\n",
        "  model.compile(loss='mean_squared_error', optimizer='adam')\r\n",
        "  for i in range(nb_epoch):\r\n",
        "    model.fit(X, y, epochs=1, batch_size=batch_size, verbose=0, shuffle=False)\r\n",
        "    model.reset_states()\r\n",
        "  return model"
      ],
      "execution_count": 42,
      "outputs": []
    },
    {
      "cell_type": "code",
      "metadata": {
        "id": "F7MooVtfrBHR"
      },
      "source": [
        "def forecast_lstm(model, batch_size, X):\r\n",
        "\tX = X.reshape(1, 1, len(X))\r\n",
        "\tyhat = model.predict(X, batch_size=batch_size)\r\n",
        "\treturn yhat[0,0]"
      ],
      "execution_count": 43,
      "outputs": []
    },
    {
      "cell_type": "code",
      "metadata": {
        "id": "D7feDYrlrCxG"
      },
      "source": [
        "series = read_csv('/content/daily-min-temperatures.csv', header=0, parse_dates=[0], index_col=0, squeeze=True) #, date_parser=parser"
      ],
      "execution_count": 44,
      "outputs": []
    },
    {
      "cell_type": "code",
      "metadata": {
        "id": "1CRqoERwrFKT"
      },
      "source": [
        "raw_values = series.values\r\n",
        "diff_values = difference(raw_values, 1)\r\n",
        "\r\n",
        "supervised = timeseries_to_supervised(diff_values, 1)\r\n",
        "supervised_values = supervised.values\r\n",
        "\r\n",
        "train, test = supervised_values[0:-120], supervised_values[-120:]\r\n",
        "\r\n",
        "scaler, train_scaled, test_scaled = scale(train, test)"
      ],
      "execution_count": 45,
      "outputs": []
    },
    {
      "cell_type": "code",
      "metadata": {
        "id": "WqWgMuo3CMCN"
      },
      "source": [
        ""
      ],
      "execution_count": 40,
      "outputs": []
    },
    {
      "cell_type": "code",
      "metadata": {
        "id": "RQpcjpdqrQFK"
      },
      "source": [
        "lstm_model = fit_lstm(train_scaled, 1, 10, 4)\r\n",
        "\r\n",
        "train_reshaped = train_scaled[:, 0].reshape(len(train_scaled), 1, 1)\r\n",
        "lstm_model.predict(train_reshaped, batch_size=1)"
      ],
      "execution_count": null,
      "outputs": []
    },
    {
      "cell_type": "code",
      "metadata": {
        "colab": {
          "base_uri": "https://localhost:8080/"
        },
        "id": "I4VI-zm8hNHA",
        "outputId": "b0fcc3a8-4160-4b7a-d3f1-c69895345b9e"
      },
      "source": [
        "predictions = list()\r\n",
        "for i in range(len(test_scaled)):\r\n",
        "\t# make one-step forecast\r\n",
        "\tX, y = test_scaled[i, 0:-1], test_scaled[i, -1]\r\n",
        "\tyhat = forecast_lstm(lstm_model, 1, X)\r\n",
        "\t# invert scaling\r\n",
        "\tyhat = invert_scale(scaler, X, yhat)\r\n",
        "\t# invert differencing\r\n",
        "\tyhat = inverse_difference(raw_values, yhat, len(test_scaled)+1-i)\r\n",
        "\t# store forecast\r\n",
        "\tpredictions.append(yhat)\r\n",
        "\texpected = raw_values[len(train) + i + 1]\r\n",
        "\tprint('Month=%d, Predicted=%f, Expected=%f' % (i+1, yhat, expected))\r\n"
      ],
      "execution_count": 29,
      "outputs": [
        {
          "output_type": "stream",
          "text": [
            "Month=1, Predicted=8.217833, Expected=8.600000\n",
            "Month=2, Predicted=7.705628, Expected=7.600000\n",
            "Month=3, Predicted=7.161131, Expected=10.400000\n",
            "Month=4, Predicted=8.806106, Expected=10.300000\n",
            "Month=5, Predicted=8.812278, Expected=7.500000\n",
            "Month=6, Predicted=7.201121, Expected=3.000000\n",
            "Month=7, Predicted=4.241652, Expected=5.300000\n",
            "Month=8, Predicted=5.971476, Expected=10.500000\n",
            "Month=9, Predicted=8.906944, Expected=14.600000\n",
            "Month=10, Predicted=10.896213, Expected=12.600000\n",
            "Month=11, Predicted=9.879667, Expected=9.800000\n",
            "Month=12, Predicted=8.381999, Expected=7.200000\n",
            "Month=13, Predicted=6.969048, Expected=10.100000\n",
            "Month=14, Predicted=8.865401, Expected=10.400000\n",
            "Month=15, Predicted=9.190251, Expected=3.700000\n",
            "Month=16, Predicted=4.686508, Expected=7.300000\n",
            "Month=17, Predicted=7.241206, Expected=11.600000\n",
            "Month=18, Predicted=9.647928, Expected=16.300000\n",
            "Month=19, Predicted=11.950071, Expected=9.600000\n",
            "Month=20, Predicted=8.191628, Expected=6.800000\n",
            "Month=21, Predicted=6.593252, Expected=5.200000\n",
            "Month=22, Predicted=5.762731, Expected=10.600000\n",
            "Month=23, Predicted=8.997226, Expected=16.300000\n",
            "Month=24, Predicted=11.810153, Expected=9.800000\n",
            "Month=25, Predicted=8.228313, Expected=4.600000\n",
            "Month=26, Predicted=4.964578, Expected=11.100000\n",
            "Month=27, Predicted=8.773782, Expected=8.700000\n",
            "Month=28, Predicted=7.535909, Expected=10.000000\n",
            "Month=29, Predicted=8.370563, Expected=11.300000\n",
            "Month=30, Predicted=9.200081, Expected=10.500000\n",
            "Month=31, Predicted=8.897823, Expected=9.900000\n",
            "Month=32, Predicted=8.722422, Expected=11.000000\n",
            "Month=33, Predicted=9.537985, Expected=14.000000\n",
            "Month=34, Predicted=11.324136, Expected=9.200000\n",
            "Month=35, Predicted=8.599174, Expected=9.800000\n",
            "Month=36, Predicted=9.191050, Expected=6.000000\n",
            "Month=37, Predicted=6.812672, Expected=9.800000\n",
            "Month=38, Predicted=9.374525, Expected=9.200000\n",
            "Month=39, Predicted=9.067184, Expected=11.800000\n",
            "Month=40, Predicted=10.666135, Expected=10.300000\n",
            "Month=41, Predicted=9.827436, Expected=7.500000\n",
            "Month=42, Predicted=8.106118, Expected=7.700000\n",
            "Month=43, Predicted=8.393962, Expected=15.800000\n",
            "Month=44, Predicted=12.797407, Expected=14.600000\n",
            "Month=45, Predicted=12.199567, Expected=10.500000\n",
            "Month=46, Predicted=9.811793, Expected=11.300000\n",
            "Month=47, Predicted=10.444655, Expected=10.900000\n",
            "Month=48, Predicted=10.345346, Expected=6.400000\n",
            "Month=49, Predicted=7.414656, Expected=10.900000\n",
            "Month=50, Predicted=10.361259, Expected=9.000000\n",
            "Month=51, Predicted=9.186768, Expected=10.900000\n",
            "Month=52, Predicted=10.405373, Expected=12.400000\n",
            "Month=53, Predicted=11.283685, Expected=11.600000\n",
            "Month=54, Predicted=10.847359, Expected=13.300000\n",
            "Month=55, Predicted=11.883731, Expected=14.400000\n",
            "Month=56, Predicted=12.570096, Expected=18.400000\n",
            "Month=57, Predicted=14.685018, Expected=13.600000\n",
            "Month=58, Predicted=12.121101, Expected=14.900000\n",
            "Month=59, Predicted=13.023837, Expected=14.800000\n",
            "Month=60, Predicted=13.196483, Expected=15.400000\n",
            "Month=61, Predicted=13.759220, Expected=11.800000\n",
            "Month=62, Predicted=11.704904, Expected=13.000000\n",
            "Month=63, Predicted=12.693650, Expected=11.100000\n",
            "Month=64, Predicted=11.608639, Expected=12.500000\n",
            "Month=65, Predicted=12.668351, Expected=18.300000\n",
            "Month=66, Predicted=15.928661, Expected=19.200000\n",
            "Month=67, Predicted=16.475500, Expected=15.400000\n",
            "Month=68, Predicted=14.359350, Expected=13.100000\n",
            "Month=69, Predicted=13.096269, Expected=11.500000\n",
            "Month=70, Predicted=12.242721, Expected=8.600000\n",
            "Month=71, Predicted=10.328356, Expected=12.600000\n",
            "Month=72, Predicted=13.089473, Expected=13.800000\n",
            "Month=73, Predicted=13.764676, Expected=14.600000\n",
            "Month=74, Predicted=14.222130, Expected=13.200000\n",
            "Month=75, Predicted=13.345606, Expected=12.300000\n",
            "Month=76, Predicted=12.822425, Expected=8.800000\n",
            "Month=77, Predicted=10.411859, Expected=10.700000\n",
            "Month=78, Predicted=11.817351, Expected=9.900000\n",
            "Month=79, Predicted=11.195811, Expected=8.300000\n",
            "Month=80, Predicted=10.056942, Expected=15.000000\n",
            "Month=81, Predicted=13.987807, Expected=12.200000\n",
            "Month=82, Predicted=12.114346, Expected=10.500000\n",
            "Month=83, Predicted=11.010875, Expected=11.100000\n",
            "Month=84, Predicted=11.390111, Expected=13.000000\n",
            "Month=85, Predicted=12.459659, Expected=12.900000\n",
            "Month=86, Predicted=12.331536, Expected=8.800000\n",
            "Month=87, Predicted=9.624029, Expected=14.700000\n",
            "Month=88, Predicted=13.047135, Expected=14.700000\n",
            "Month=89, Predicted=12.985280, Expected=12.700000\n",
            "Month=90, Predicted=11.822304, Expected=13.300000\n",
            "Month=91, Predicted=12.238568, Expected=13.200000\n",
            "Month=92, Predicted=12.263039, Expected=16.200000\n",
            "Month=93, Predicted=13.972432, Expected=17.300000\n",
            "Month=94, Predicted=14.650140, Expected=20.500000\n",
            "Month=95, Predicted=16.357804, Expected=20.200000\n",
            "Month=96, Predicted=16.449385, Expected=19.400000\n",
            "Month=97, Predicted=16.307975, Expected=15.500000\n",
            "Month=98, Predicted=14.313209, Expected=14.100000\n",
            "Month=99, Predicted=13.760652, Expected=11.000000\n",
            "Month=100, Predicted=11.920610, Expected=11.100000\n",
            "Month=101, Predicted=12.263269, Expected=14.000000\n",
            "Month=102, Predicted=14.242519, Expected=11.400000\n",
            "Month=103, Predicted=12.498836, Expected=12.500000\n",
            "Month=104, Predicted=13.360339, Expected=13.400000\n",
            "Month=105, Predicted=13.938504, Expected=13.600000\n",
            "Month=106, Predicted=14.054998, Expected=13.900000\n",
            "Month=107, Predicted=14.243397, Expected=17.200000\n",
            "Month=108, Predicted=16.145823, Expected=14.700000\n",
            "Month=109, Predicted=14.582294, Expected=15.400000\n",
            "Month=110, Predicted=15.068482, Expected=13.100000\n",
            "Month=111, Predicted=13.626006, Expected=13.200000\n",
            "Month=112, Predicted=13.787543, Expected=13.900000\n",
            "Month=113, Predicted=14.258757, Expected=10.000000\n",
            "Month=114, Predicted=11.531384, Expected=12.900000\n",
            "Month=115, Predicted=13.541596, Expected=14.600000\n",
            "Month=116, Predicted=14.473450, Expected=14.000000\n",
            "Month=117, Predicted=14.027157, Expected=13.600000\n",
            "Month=118, Predicted=13.760741, Expected=13.500000\n",
            "Month=119, Predicted=13.696258, Expected=15.700000\n",
            "Month=120, Predicted=14.980259, Expected=13.000000\n"
          ],
          "name": "stdout"
        }
      ]
    },
    {
      "cell_type": "code",
      "metadata": {
        "colab": {
          "base_uri": "https://localhost:8080/"
        },
        "id": "q3ftX0UphNEO",
        "outputId": "5de44ec8-fad3-45d0-d463-6c4130cf7808"
      },
      "source": [
        "rmse = sqrt(mean_squared_error(raw_values[-120:], predictions))\r\n",
        "print('Test RMSE: %.3f' % rmse)"
      ],
      "execution_count": 30,
      "outputs": [
        {
          "output_type": "stream",
          "text": [
            "Test RMSE: 2.771\n"
          ],
          "name": "stdout"
        }
      ]
    },
    {
      "cell_type": "code",
      "metadata": {
        "colab": {
          "base_uri": "https://localhost:8080/",
          "height": 265
        },
        "id": "oR2hzMbSrZRM",
        "outputId": "97d089eb-8656-4d9a-a863-7f09870a08bd"
      },
      "source": [
        "pyplot.plot(raw_values[-120:])\r\n",
        "pyplot.plot(predictions)\r\n",
        "pyplot.show()"
      ],
      "execution_count": 32,
      "outputs": [
        {
          "output_type": "display_data",
          "data": {
            "image/png": "[encoded data removed]",
            "text/plain": [
              "<Figure size 432x288 with 1 Axes>"
            ]
          },
          "metadata": {
            "tags": [],
            "needs_background": "light"
          }
        }
      ]
    },
    {
      "cell_type": "code",
      "metadata": {
        "id": "qNiGsZiHsiP2"
      },
      "source": [
        ""
      ],
      "execution_count": null,
      "outputs": []
    }
  ]
}