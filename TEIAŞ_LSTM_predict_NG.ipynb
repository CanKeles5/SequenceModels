{
  "nbformat": 4,
  "nbformat_minor": 0,
  "metadata": {
    "colab": {
      "name": "TEIAŞ-LSTM-predict-NG",
      "provenance": [],
      "collapsed_sections": [],
      "authorship_tag": "ABX9TyPPe/0/dIXAnKitHI2nSnAm",
      "include_colab_link": true
    },
    "kernelspec": {
      "name": "python3",
      "display_name": "Python 3"
    },
    "accelerator": "GPU"
  },
  "cells": [
    {
      "cell_type": "markdown",
      "metadata": {
        "id": "view-in-github",
        "colab_type": "text"
      },
      "source": [
        "<a href=\"https://colab.research.google.com/github/CanKeles5/SequenceModels/blob/main/TEIA%C5%9E_LSTM_predict_NG.ipynb\" target=\"_parent\"><img src=\"https://colab.research.google.com/assets/colab-badge.svg\" alt=\"Open In Colab\"/></a>"
      ]
    },
    {
      "cell_type": "markdown",
      "metadata": {
        "id": "5k1iETbjt3vC"
      },
      "source": [
        "To-Do:\r\n",
        "  Train using only one feature. NaturalGas\r\n",
        "\r\n",
        "  Inspect the data and drop columns that are too sparse. See how many of the values in each col are zero.\r\n",
        "\r\n",
        "++++ 1-  Give all features except total and natural gas and predict NG.\r\n",
        "\r\n",
        "\r\n",
        "2-  Use 1-2 years data and do forecasting. "
      ]
    },
    {
      "cell_type": "markdown",
      "metadata": {
        "id": "mTHrr4Jat3NT"
      },
      "source": [
        ""
      ]
    },
    {
      "cell_type": "code",
      "metadata": {
        "id": "4pe94wvjeVIK"
      },
      "source": [
        "import torch\r\n",
        "torch.cuda.is_available()\r\n",
        "if torch.cuda.is_available():\r\n",
        "  dev = \"cuda:0\"\r\n",
        "else:\r\n",
        "  dev = \"cpu\"\r\n",
        "device = torch.device(dev)"
      ],
      "execution_count": 1,
      "outputs": []
    },
    {
      "cell_type": "code",
      "metadata": {
        "colab": {
          "base_uri": "https://localhost:8080/"
        },
        "id": "GLnNKJCleZIW",
        "outputId": "fffd16ba-f524-433b-e5bf-7a1921af5251"
      },
      "source": [
        "device"
      ],
      "execution_count": 2,
      "outputs": [
        {
          "output_type": "execute_result",
          "data": {
            "text/plain": [
              "device(type='cuda', index=0)"
            ]
          },
          "metadata": {
            "tags": []
          },
          "execution_count": 2
        }
      ]
    },
    {
      "cell_type": "code",
      "metadata": {
        "id": "pQcVLbbQncsR"
      },
      "source": [
        "%matplotlib inline"
      ],
      "execution_count": 3,
      "outputs": []
    },
    {
      "cell_type": "code",
      "metadata": {
        "colab": {
          "base_uri": "https://localhost:8080/"
        },
        "id": "4Y101PUHcuAh",
        "outputId": "99cbe68c-ebe3-4927-8ffd-454d19fd1e9a"
      },
      "source": [
        "! pip install pickle5"
      ],
      "execution_count": 4,
      "outputs": [
        {
          "output_type": "stream",
          "text": [
            "Collecting pickle5\n",
            "\u001b[?25l  Downloading https://files.pythonhosted.org/packages/f7/4c/5c4dd0462c8d3a6bc4af500a6af240763c2ebd1efdc736fc2c946d44b70a/pickle5-0.0.11.tar.gz (132kB)\n",
            "\r\u001b[K     |██▌                             | 10kB 22.7MB/s eta 0:00:01\r\u001b[K     |█████                           | 20kB 15.7MB/s eta 0:00:01\r\u001b[K     |███████▍                        | 30kB 13.6MB/s eta 0:00:01\r\u001b[K     |██████████                      | 40kB 12.5MB/s eta 0:00:01\r\u001b[K     |████████████▍                   | 51kB 9.3MB/s eta 0:00:01\r\u001b[K     |██████████████▉                 | 61kB 8.4MB/s eta 0:00:01\r\u001b[K     |█████████████████▍              | 71kB 9.5MB/s eta 0:00:01\r\u001b[K     |███████████████████▉            | 81kB 10.6MB/s eta 0:00:01\r\u001b[K     |██████████████████████▎         | 92kB 10.1MB/s eta 0:00:01\r\u001b[K     |████████████████████████▉       | 102kB 9.0MB/s eta 0:00:01\r\u001b[K     |███████████████████████████▎    | 112kB 9.0MB/s eta 0:00:01\r\u001b[K     |█████████████████████████████▊  | 122kB 9.0MB/s eta 0:00:01\r\u001b[K     |████████████████████████████████| 133kB 9.0MB/s \n",
            "\u001b[?25hBuilding wheels for collected packages: pickle5\n",
            "  Building wheel for pickle5 (setup.py) ... \u001b[?25l\u001b[?25hdone\n",
            "  Created wheel for pickle5: filename=pickle5-0.0.11-cp36-cp36m-linux_x86_64.whl size=218620 sha256=99cac8a945988de9b64177f24dc4817023e486914384548d9e233bdb01cc99e2\n",
            "  Stored in directory: /root/.cache/pip/wheels/a6/90/95/f889ca4aa8b0e0c7f21c8470b6f5d6032f0390a3a141a9a3bd\n",
            "Successfully built pickle5\n",
            "Installing collected packages: pickle5\n",
            "Successfully installed pickle5-0.0.11\n"
          ],
          "name": "stdout"
        }
      ]
    },
    {
      "cell_type": "code",
      "metadata": {
        "id": "8lgRPeJqndlf"
      },
      "source": [
        "import pickle5\r\n",
        "from math import sqrt\r\n",
        "from datetime import datetime\r\n",
        "from numpy import concatenate\r\n",
        "from matplotlib import pyplot\r\n",
        "from pandas import read_csv\r\n",
        "from pandas import DataFrame\r\n",
        "from pandas import concat\r\n",
        "from sklearn.preprocessing import MinMaxScaler\r\n",
        "from sklearn.preprocessing import LabelEncoder\r\n",
        "from sklearn.metrics import mean_squared_error\r\n",
        "import torch\r\n",
        "import torch.nn as nn\r\n",
        "import torch.nn.functional as F\r\n",
        "import torch.optim as optim"
      ],
      "execution_count": 5,
      "outputs": []
    },
    {
      "cell_type": "code",
      "metadata": {
        "id": "7iWe2exWcKGo"
      },
      "source": [
        "with open('/content/20210101-epias-raw.pkl', 'rb') as f:\r\n",
        "    data = pickle5.load(f)"
      ],
      "execution_count": 6,
      "outputs": []
    },
    {
      "cell_type": "markdown",
      "metadata": {
        "id": "vpC0YYEdjJi-"
      },
      "source": [
        "Drop all colums of zeros: df.loc[:, (df != 0).any(axis=0)]\r\n"
      ]
    },
    {
      "cell_type": "code",
      "metadata": {
        "id": "ORkCVX7vil21"
      },
      "source": [
        "new_data = data.loc[:, (data != 0).any(axis=0)] #(index=False)"
      ],
      "execution_count": 7,
      "outputs": []
    },
    {
      "cell_type": "code",
      "metadata": {
        "id": "Kxm-V3TdUcoN"
      },
      "source": [
        "new_data = new_data.sample(frac = 1)"
      ],
      "execution_count": 8,
      "outputs": []
    },
    {
      "cell_type": "code",
      "metadata": {
        "id": "VsnV-rVp4PC7"
      },
      "source": [
        "new_data = new_data.drop(['date', 'ltotal',\t'lwind',\t'lbiogas',\t'lcanalType',\t'lbiomass',\t'lsun',\t'lothers', 'total'], axis=1)"
      ],
      "execution_count": 9,
      "outputs": []
    },
    {
      "cell_type": "code",
      "metadata": {
        "colab": {
          "base_uri": "https://localhost:8080/",
          "height": 422
        },
        "id": "jJDsGIYRELLy",
        "outputId": "11cb133a-4dcb-4589-bec7-80c177123472"
      },
      "source": [
        "new_data"
      ],
      "execution_count": 10,
      "outputs": [
        {
          "output_type": "execute_result",
          "data": {
            "text/html": [
              "<div>\n",
              "<style scoped>\n",
              "    .dataframe tbody tr th:only-of-type {\n",
              "        vertical-align: middle;\n",
              "    }\n",
              "\n",
              "    .dataframe tbody tr th {\n",
              "        vertical-align: top;\n",
              "    }\n",
              "\n",
              "    .dataframe thead th {\n",
              "        text-align: right;\n",
              "    }\n",
              "</style>\n",
              "<table border=\"1\" class=\"dataframe\">\n",
              "  <thead>\n",
              "    <tr style=\"text-align: right;\">\n",
              "      <th></th>\n",
              "      <th>fueloil</th>\n",
              "      <th>blackCoal</th>\n",
              "      <th>lignite</th>\n",
              "      <th>geothermal</th>\n",
              "      <th>naturalGas</th>\n",
              "      <th>river</th>\n",
              "      <th>dammedHydro</th>\n",
              "      <th>lng</th>\n",
              "      <th>biomass</th>\n",
              "      <th>naphta</th>\n",
              "      <th>importCoal</th>\n",
              "      <th>asphaltiteCoal</th>\n",
              "      <th>wind</th>\n",
              "      <th>sun</th>\n",
              "      <th>importExport</th>\n",
              "    </tr>\n",
              "  </thead>\n",
              "  <tbody>\n",
              "    <tr>\n",
              "      <th>35444</th>\n",
              "      <td>170.4</td>\n",
              "      <td>206.50</td>\n",
              "      <td>3681.27</td>\n",
              "      <td>530.22</td>\n",
              "      <td>8509.52</td>\n",
              "      <td>4053.00</td>\n",
              "      <td>5411.87</td>\n",
              "      <td>0.00</td>\n",
              "      <td>216.18</td>\n",
              "      <td>0.0</td>\n",
              "      <td>3911.44</td>\n",
              "      <td>381.97</td>\n",
              "      <td>3362.61</td>\n",
              "      <td>0.00</td>\n",
              "      <td>0.00</td>\n",
              "    </tr>\n",
              "    <tr>\n",
              "      <th>58870</th>\n",
              "      <td>34.5</td>\n",
              "      <td>279.00</td>\n",
              "      <td>4167.24</td>\n",
              "      <td>1154.77</td>\n",
              "      <td>8456.96</td>\n",
              "      <td>1155.01</td>\n",
              "      <td>1302.93</td>\n",
              "      <td>0.00</td>\n",
              "      <td>406.03</td>\n",
              "      <td>0.0</td>\n",
              "      <td>8749.60</td>\n",
              "      <td>344.44</td>\n",
              "      <td>4623.52</td>\n",
              "      <td>0.00</td>\n",
              "      <td>-176.45</td>\n",
              "    </tr>\n",
              "    <tr>\n",
              "      <th>35663</th>\n",
              "      <td>172.7</td>\n",
              "      <td>254.50</td>\n",
              "      <td>4366.89</td>\n",
              "      <td>607.43</td>\n",
              "      <td>8405.57</td>\n",
              "      <td>4027.56</td>\n",
              "      <td>3854.92</td>\n",
              "      <td>0.00</td>\n",
              "      <td>211.43</td>\n",
              "      <td>0.0</td>\n",
              "      <td>3493.44</td>\n",
              "      <td>384.17</td>\n",
              "      <td>530.88</td>\n",
              "      <td>0.00</td>\n",
              "      <td>0.00</td>\n",
              "    </tr>\n",
              "    <tr>\n",
              "      <th>14382</th>\n",
              "      <td>288.5</td>\n",
              "      <td>479.00</td>\n",
              "      <td>4032.22</td>\n",
              "      <td>324.63</td>\n",
              "      <td>10638.09</td>\n",
              "      <td>845.36</td>\n",
              "      <td>195.06</td>\n",
              "      <td>4.50</td>\n",
              "      <td>120.81</td>\n",
              "      <td>0.0</td>\n",
              "      <td>4371.90</td>\n",
              "      <td>112.60</td>\n",
              "      <td>696.63</td>\n",
              "      <td>0.00</td>\n",
              "      <td>0.00</td>\n",
              "    </tr>\n",
              "    <tr>\n",
              "      <th>66584</th>\n",
              "      <td>36.3</td>\n",
              "      <td>466.19</td>\n",
              "      <td>4707.21</td>\n",
              "      <td>1140.06</td>\n",
              "      <td>13058.31</td>\n",
              "      <td>994.23</td>\n",
              "      <td>5671.80</td>\n",
              "      <td>0.00</td>\n",
              "      <td>526.29</td>\n",
              "      <td>0.0</td>\n",
              "      <td>7806.26</td>\n",
              "      <td>112.60</td>\n",
              "      <td>1727.18</td>\n",
              "      <td>202.91</td>\n",
              "      <td>-365.90</td>\n",
              "    </tr>\n",
              "    <tr>\n",
              "      <th>...</th>\n",
              "      <td>...</td>\n",
              "      <td>...</td>\n",
              "      <td>...</td>\n",
              "      <td>...</td>\n",
              "      <td>...</td>\n",
              "      <td>...</td>\n",
              "      <td>...</td>\n",
              "      <td>...</td>\n",
              "      <td>...</td>\n",
              "      <td>...</td>\n",
              "      <td>...</td>\n",
              "      <td>...</td>\n",
              "      <td>...</td>\n",
              "      <td>...</td>\n",
              "      <td>...</td>\n",
              "    </tr>\n",
              "    <tr>\n",
              "      <th>66615</th>\n",
              "      <td>36.2</td>\n",
              "      <td>338.29</td>\n",
              "      <td>4347.39</td>\n",
              "      <td>1173.53</td>\n",
              "      <td>12640.42</td>\n",
              "      <td>1001.69</td>\n",
              "      <td>8201.61</td>\n",
              "      <td>0.00</td>\n",
              "      <td>531.72</td>\n",
              "      <td>0.0</td>\n",
              "      <td>8556.42</td>\n",
              "      <td>150.13</td>\n",
              "      <td>1197.82</td>\n",
              "      <td>0.00</td>\n",
              "      <td>-378.33</td>\n",
              "    </tr>\n",
              "    <tr>\n",
              "      <th>47167</th>\n",
              "      <td>194.6</td>\n",
              "      <td>273.50</td>\n",
              "      <td>4947.68</td>\n",
              "      <td>678.48</td>\n",
              "      <td>12546.17</td>\n",
              "      <td>1141.68</td>\n",
              "      <td>5727.98</td>\n",
              "      <td>0.00</td>\n",
              "      <td>255.04</td>\n",
              "      <td>0.0</td>\n",
              "      <td>6593.95</td>\n",
              "      <td>331.18</td>\n",
              "      <td>3694.58</td>\n",
              "      <td>17.60</td>\n",
              "      <td>-205.00</td>\n",
              "    </tr>\n",
              "    <tr>\n",
              "      <th>1371</th>\n",
              "      <td>28.5</td>\n",
              "      <td>150.00</td>\n",
              "      <td>2403.50</td>\n",
              "      <td>0.00</td>\n",
              "      <td>11144.26</td>\n",
              "      <td>87.01</td>\n",
              "      <td>1286.82</td>\n",
              "      <td>9.10</td>\n",
              "      <td>54.51</td>\n",
              "      <td>0.0</td>\n",
              "      <td>2423.00</td>\n",
              "      <td>0.00</td>\n",
              "      <td>234.01</td>\n",
              "      <td>0.00</td>\n",
              "      <td>0.00</td>\n",
              "    </tr>\n",
              "    <tr>\n",
              "      <th>28980</th>\n",
              "      <td>188.8</td>\n",
              "      <td>331.50</td>\n",
              "      <td>4619.97</td>\n",
              "      <td>424.05</td>\n",
              "      <td>12412.89</td>\n",
              "      <td>1310.25</td>\n",
              "      <td>7487.21</td>\n",
              "      <td>10.31</td>\n",
              "      <td>163.12</td>\n",
              "      <td>0.0</td>\n",
              "      <td>6485.67</td>\n",
              "      <td>390.80</td>\n",
              "      <td>2910.01</td>\n",
              "      <td>0.00</td>\n",
              "      <td>0.00</td>\n",
              "    </tr>\n",
              "    <tr>\n",
              "      <th>64013</th>\n",
              "      <td>37.7</td>\n",
              "      <td>648.30</td>\n",
              "      <td>4339.89</td>\n",
              "      <td>948.42</td>\n",
              "      <td>11163.34</td>\n",
              "      <td>1329.56</td>\n",
              "      <td>11108.19</td>\n",
              "      <td>0.00</td>\n",
              "      <td>440.97</td>\n",
              "      <td>0.0</td>\n",
              "      <td>8566.54</td>\n",
              "      <td>214.16</td>\n",
              "      <td>938.22</td>\n",
              "      <td>138.85</td>\n",
              "      <td>-136.33</td>\n",
              "    </tr>\n",
              "  </tbody>\n",
              "</table>\n",
              "<p>67268 rows × 15 columns</p>\n",
              "</div>"
            ],
            "text/plain": [
              "       fueloil  blackCoal  lignite  ...     wind     sun  importExport\n",
              "35444    170.4     206.50  3681.27  ...  3362.61    0.00          0.00\n",
              "58870     34.5     279.00  4167.24  ...  4623.52    0.00       -176.45\n",
              "35663    172.7     254.50  4366.89  ...   530.88    0.00          0.00\n",
              "14382    288.5     479.00  4032.22  ...   696.63    0.00          0.00\n",
              "66584     36.3     466.19  4707.21  ...  1727.18  202.91       -365.90\n",
              "...        ...        ...      ...  ...      ...     ...           ...\n",
              "66615     36.2     338.29  4347.39  ...  1197.82    0.00       -378.33\n",
              "47167    194.6     273.50  4947.68  ...  3694.58   17.60       -205.00\n",
              "1371      28.5     150.00  2403.50  ...   234.01    0.00          0.00\n",
              "28980    188.8     331.50  4619.97  ...  2910.01    0.00          0.00\n",
              "64013     37.7     648.30  4339.89  ...   938.22  138.85       -136.33\n",
              "\n",
              "[67268 rows x 15 columns]"
            ]
          },
          "metadata": {
            "tags": []
          },
          "execution_count": 10
        }
      ]
    },
    {
      "cell_type": "code",
      "metadata": {
        "id": "ZRpdxwU3B7Yi"
      },
      "source": [
        "target = new_data.drop(['fueloil',\t'blackCoal',\t'lignite',\t'geothermal',\t'river',\t'dammedHydro',\t'lng',\t'biomass',\t'naphta',\t'importCoal',\t'asphaltiteCoal',\t'wind',\t'sun',\t'importExport'], axis=1)"
      ],
      "execution_count": 11,
      "outputs": []
    },
    {
      "cell_type": "code",
      "metadata": {
        "id": "ygTVHEfcERtq"
      },
      "source": [
        "target = target.to_numpy()"
      ],
      "execution_count": 12,
      "outputs": []
    },
    {
      "cell_type": "code",
      "metadata": {
        "id": "vL3RCqnID6JC"
      },
      "source": [
        "data = new_data.drop(['naturalGas'], axis=1)"
      ],
      "execution_count": 13,
      "outputs": []
    },
    {
      "cell_type": "code",
      "metadata": {
        "id": "C0FCv2jyEV2s"
      },
      "source": [
        "data = data.to_numpy()"
      ],
      "execution_count": 14,
      "outputs": []
    },
    {
      "cell_type": "markdown",
      "metadata": {
        "id": "w_4GBZbldZX-"
      },
      "source": [
        "To-do:\r\n",
        "  Get the data in such a format that it can work with the other notebook.\r\n",
        "  \r\n",
        "  1- Extract the date element.\r\n",
        "\r\n",
        "  2- Normalize all features in the input part of the data.\r\n",
        "\r\n",
        "  3- Create the inputs and the targets.\r\n",
        "\r\n",
        "  4- Create train and test sets.\r\n",
        "\r\n",
        "  5- \r\n",
        "\r\n",
        "  6- "
      ]
    },
    {
      "cell_type": "code",
      "metadata": {
        "colab": {
          "base_uri": "https://localhost:8080/"
        },
        "id": "lz_o3Bf4boM1",
        "outputId": "2d23b7e7-b6b7-41ad-d69d-be9ff79f7ce9"
      },
      "source": [
        "# integer encode direction\r\n",
        "#encoder = LabelEncoder()\r\n",
        "#new_data[:,4] = encoder.fit_transform(new_data[:,4])\r\n",
        "# ensure all data is float\r\n",
        "\r\n",
        "#values = values.astype('float32')\r\n",
        "# normalize features\r\n",
        "scaler = MinMaxScaler(feature_range=(0, 1))\r\n",
        "data = scaler.fit_transform(data)\r\n",
        "target = scaler.fit_transform(target)\r\n",
        "\r\n",
        "print(data.shape)\r\n",
        "print(target.shape)\r\n",
        "#reframed = series_to_supervised(scaled, n_hours, 1)\r\n",
        "#print(reframed.shape)"
      ],
      "execution_count": 15,
      "outputs": [
        {
          "output_type": "stream",
          "text": [
            "(67268, 14)\n",
            "(67268, 1)\n"
          ],
          "name": "stdout"
        }
      ]
    },
    {
      "cell_type": "code",
      "metadata": {
        "id": "kwZivybOFk5-"
      },
      "source": [
        "n_train_hours = 50000\r\n",
        "train_X = data[:n_train_hours, :]\r\n",
        "train_y = target[:n_train_hours, :]\r\n",
        "test_X = data[n_train_hours:, :]\r\n",
        "test_y = target[n_train_hours:, :]"
      ],
      "execution_count": 16,
      "outputs": []
    },
    {
      "cell_type": "code",
      "metadata": {
        "id": "48mDYPiiJfxt"
      },
      "source": [
        "class LSTM(nn.Module):\r\n",
        "\r\n",
        "  def __init__(self):\r\n",
        "    super(LSTM, self).__init__()\r\n",
        "\r\n",
        "    self.lstm = nn.LSTM(input_size=14, hidden_size=100, num_layers=2)\r\n",
        "    self.FC = nn.Linear(100, 1)\r\n",
        "\r\n",
        "  def forward(self, input):\r\n",
        "    pred, _ = self.lstm(input)\r\n",
        "\r\n",
        "    pred = self.FC(pred.view(100))\r\n",
        "\r\n",
        "    return pred"
      ],
      "execution_count": 19,
      "outputs": []
    },
    {
      "cell_type": "code",
      "metadata": {
        "id": "oF0ge_gOJiTi"
      },
      "source": [
        "model = LSTM().to(device)"
      ],
      "execution_count": 20,
      "outputs": []
    },
    {
      "cell_type": "code",
      "metadata": {
        "colab": {
          "base_uri": "https://localhost:8080/"
        },
        "id": "prdL6nVX5l9u",
        "outputId": "78a04019-19c8-477d-c5fb-d07068356525"
      },
      "source": [
        "sum(p.numel() for p in model.parameters())"
      ],
      "execution_count": 21,
      "outputs": [
        {
          "output_type": "execute_result",
          "data": {
            "text/plain": [
              "127301"
            ]
          },
          "metadata": {
            "tags": []
          },
          "execution_count": 21
        }
      ]
    },
    {
      "cell_type": "code",
      "metadata": {
        "id": "7iuxhjBXJiQm"
      },
      "source": [
        "loss_function = nn.L1Loss()\r\n",
        "optimizer = optim.Adam(model.parameters(), lr=1e-5)"
      ],
      "execution_count": 22,
      "outputs": []
    },
    {
      "cell_type": "code",
      "metadata": {
        "id": "YwdaiI0bJiNY"
      },
      "source": [
        "train_loss_hist = []\r\n",
        "test_loss_hist = []"
      ],
      "execution_count": 23,
      "outputs": []
    },
    {
      "cell_type": "code",
      "metadata": {
        "id": "70IW6m21JiKJ",
        "colab": {
          "base_uri": "https://localhost:8080/"
        },
        "outputId": "ed6cde6b-0f5c-401d-8b83-480d91c0f6ba"
      },
      "source": [
        "for epoch in range(50):\r\n",
        "  train_loss = 0.0\r\n",
        "  test_loss = 0.0\r\n",
        "\r\n",
        "  for i in range(train_X.shape[0]):\r\n",
        "    data = torch.Tensor(train_X[i]).unsqueeze(0).unsqueeze(0)    \r\n",
        "    data = data.to(device)\r\n",
        "\r\n",
        "    optimizer.zero_grad()\r\n",
        "\r\n",
        "    prediction = model(data)\r\n",
        "\r\n",
        "    #print(\"Train --- prediction: \" + str(prediction) + \" , GT: \" + str(train_y[i]))\r\n",
        "\r\n",
        "    loss = loss_function(prediction, torch.Tensor([train_y[i]]).to(device))\r\n",
        "\r\n",
        "    train_loss += loss.item()\r\n",
        "\r\n",
        "    loss.backward()\r\n",
        "    optimizer.step()\r\n",
        "\r\n",
        "  with torch.no_grad():\r\n",
        "    for i in range(test_X.shape[0]):\r\n",
        "      data = torch.Tensor(test_X[i]).unsqueeze(0).unsqueeze(0)\r\n",
        "      data = data.to(device)\r\n",
        "\r\n",
        "      prediction = model(data)\r\n",
        "\r\n",
        "      #print(\"Validate --- prediction: \" + str(prediction) + \" , GT: \" + str(test_y[i]))\r\n",
        "\r\n",
        "      loss = loss_function(prediction, torch.Tensor([test_y[i]]).to(device))\r\n",
        "      test_loss += loss.item()\r\n",
        "\r\n",
        "  train_loss = train_loss / train_X.shape[0]\r\n",
        "  test_loss = test_loss / test_X.shape[0]\r\n",
        "\r\n",
        "  train_loss_hist.append(train_loss)\r\n",
        "  test_loss_hist.append(test_loss)\r\n",
        "\r\n",
        "  print(\"Train loss: \" +  str(train_loss) + \" --- Test loss: \" + str(test_loss))\r\n"
      ],
      "execution_count": null,
      "outputs": [
        {
          "output_type": "stream",
          "text": [
            "/usr/local/lib/python3.6/dist-packages/torch/nn/modules/loss.py:94: UserWarning: Using a target size (torch.Size([1, 1])) that is different to the input size (torch.Size([1])). This will likely lead to incorrect results due to broadcasting. Please ensure they have the same size.\n",
            "  return F.l1_loss(input, target, reduction=self.reduction)\n"
          ],
          "name": "stderr"
        },
        {
          "output_type": "stream",
          "text": [
            "Train loss: 0.0877247029330954 --- Test loss: 0.08842083544552133\n"
          ],
          "name": "stdout"
        }
      ]
    },
    {
      "cell_type": "code",
      "metadata": {
        "colab": {
          "base_uri": "https://localhost:8080/",
          "height": 282
        },
        "id": "V0VMCc4zJiHN",
        "outputId": "6c46c82a-ec7c-443f-e8d4-46e235c358e7"
      },
      "source": [
        "pyplot.plot(train_loss_hist)\r\n",
        "pyplot.plot(test_loss_hist)\r\n"
      ],
      "execution_count": 25,
      "outputs": [
        {
          "output_type": "execute_result",
          "data": {
            "text/plain": [
              "[<matplotlib.lines.Line2D at 0x7f6c9db326d8>]"
            ]
          },
          "metadata": {
            "tags": []
          },
          "execution_count": 25
        },
        {
          "output_type": "display_data",
          "data": {
            "image/png": "[encoded data removed]",
            "text/plain": [
              "<Figure size 432x288 with 1 Axes>"
            ]
          },
          "metadata": {
            "tags": [],
            "needs_background": "light"
          }
        }
      ]
    },
    {
      "cell_type": "code",
      "metadata": {
        "id": "6KFvJE4IJjhK"
      },
      "source": [
        ""
      ],
      "execution_count": null,
      "outputs": []
    },
    {
      "cell_type": "code",
      "metadata": {
        "id": "wMNzzBZ6JjeO"
      },
      "source": [
        ""
      ],
      "execution_count": null,
      "outputs": []
    },
    {
      "cell_type": "code",
      "metadata": {
        "id": "e2TG7y-XJjbF"
      },
      "source": [
        ""
      ],
      "execution_count": null,
      "outputs": []
    }
  ]
}