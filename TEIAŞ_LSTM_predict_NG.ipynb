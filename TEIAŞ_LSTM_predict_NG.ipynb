{
  "nbformat": 4,
  "nbformat_minor": 0,
  "metadata": {
    "colab": {
      "name": "TEIAŞ-LSTM-predict-NG",
      "provenance": [],
      "collapsed_sections": [],
      "authorship_tag": "ABX9TyPoyV44pCpXS91WuKhXGmbg",
      "include_colab_link": true
    },
    "kernelspec": {
      "name": "python3",
      "display_name": "Python 3"
    },
    "accelerator": "GPU"
  },
  "cells": [
    {
      "cell_type": "markdown",
      "metadata": {
        "id": "view-in-github",
        "colab_type": "text"
      },
      "source": [
        "<a href=\"https://colab.research.google.com/github/CanKeles5/SequenceModels/blob/main/TEIA%C5%9E_LSTM_predict_NG.ipynb\" target=\"_parent\"><img src=\"https://colab.research.google.com/assets/colab-badge.svg\" alt=\"Open In Colab\"/></a>"
      ]
    },
    {
      "cell_type": "markdown",
      "metadata": {
        "id": "5k1iETbjt3vC"
      },
      "source": [
        "To-Do:\r\n",
        "  Train using only one feature. NaturalGas\r\n",
        "\r\n",
        "  Inspect the data and drop columns that are too sparse. See how many of the values in each col are zero.\r\n",
        "\r\n",
        "++++ 1-  Give all features except total and natural gas and predict NG.\r\n",
        "\r\n",
        "\r\n",
        "2-  Use 1-2 years data and do forecasting. "
      ]
    },
    {
      "cell_type": "markdown",
      "metadata": {
        "id": "mTHrr4Jat3NT"
      },
      "source": [
        ""
      ]
    },
    {
      "cell_type": "code",
      "metadata": {
        "id": "4pe94wvjeVIK"
      },
      "source": [
        "import torch\r\n",
        "torch.cuda.is_available()\r\n",
        "if torch.cuda.is_available():\r\n",
        "  dev = \"cuda:0\"\r\n",
        "else:\r\n",
        "  dev = \"cpu\"\r\n",
        "device = torch.device(dev)"
      ],
      "execution_count": 1,
      "outputs": []
    },
    {
      "cell_type": "code",
      "metadata": {
        "colab": {
          "base_uri": "https://localhost:8080/"
        },
        "id": "GLnNKJCleZIW",
        "outputId": "1c4cd93b-6e78-4948-ebdd-1ea1497906a0"
      },
      "source": [
        "device"
      ],
      "execution_count": 2,
      "outputs": [
        {
          "output_type": "execute_result",
          "data": {
            "text/plain": [
              "device(type='cpu')"
            ]
          },
          "metadata": {
            "tags": []
          },
          "execution_count": 2
        }
      ]
    },
    {
      "cell_type": "code",
      "metadata": {
        "id": "pQcVLbbQncsR"
      },
      "source": [
        "%matplotlib inline"
      ],
      "execution_count": 3,
      "outputs": []
    },
    {
      "cell_type": "code",
      "metadata": {
        "colab": {
          "base_uri": "https://localhost:8080/"
        },
        "id": "4Y101PUHcuAh",
        "outputId": "2bc4e6c7-d87f-43dc-ce06-6048a7aca7fd"
      },
      "source": [
        "! pip install pickle5"
      ],
      "execution_count": 4,
      "outputs": [
        {
          "output_type": "stream",
          "text": [
            "Collecting pickle5\n",
            "\u001b[?25l  Downloading https://files.pythonhosted.org/packages/f7/4c/5c4dd0462c8d3a6bc4af500a6af240763c2ebd1efdc736fc2c946d44b70a/pickle5-0.0.11.tar.gz (132kB)\n",
            "\r\u001b[K     |██▌                             | 10kB 14.6MB/s eta 0:00:01\r\u001b[K     |█████                           | 20kB 18.8MB/s eta 0:00:01\r\u001b[K     |███████▍                        | 30kB 13.3MB/s eta 0:00:01\r\u001b[K     |██████████                      | 40kB 10.0MB/s eta 0:00:01\r\u001b[K     |████████████▍                   | 51kB 9.4MB/s eta 0:00:01\r\u001b[K     |██████████████▉                 | 61kB 8.0MB/s eta 0:00:01\r\u001b[K     |█████████████████▍              | 71kB 7.9MB/s eta 0:00:01\r\u001b[K     |███████████████████▉            | 81kB 8.7MB/s eta 0:00:01\r\u001b[K     |██████████████████████▎         | 92kB 8.3MB/s eta 0:00:01\r\u001b[K     |████████████████████████▉       | 102kB 8.3MB/s eta 0:00:01\r\u001b[K     |███████████████████████████▎    | 112kB 8.3MB/s eta 0:00:01\r\u001b[K     |█████████████████████████████▊  | 122kB 8.3MB/s eta 0:00:01\r\u001b[K     |████████████████████████████████| 133kB 8.3MB/s \n",
            "\u001b[?25hBuilding wheels for collected packages: pickle5\n",
            "  Building wheel for pickle5 (setup.py) ... \u001b[?25l\u001b[?25hdone\n",
            "  Created wheel for pickle5: filename=pickle5-0.0.11-cp36-cp36m-linux_x86_64.whl size=218617 sha256=c4b13b14e0f24296abd5a6393263c87932dc1b6a11cb78596f284249e82a0979\n",
            "  Stored in directory: /root/.cache/pip/wheels/a6/90/95/f889ca4aa8b0e0c7f21c8470b6f5d6032f0390a3a141a9a3bd\n",
            "Successfully built pickle5\n",
            "Installing collected packages: pickle5\n",
            "Successfully installed pickle5-0.0.11\n"
          ],
          "name": "stdout"
        }
      ]
    },
    {
      "cell_type": "code",
      "metadata": {
        "id": "8lgRPeJqndlf"
      },
      "source": [
        "import pickle5\r\n",
        "from math import sqrt\r\n",
        "from datetime import datetime\r\n",
        "from numpy import concatenate\r\n",
        "from matplotlib import pyplot\r\n",
        "from pandas import read_csv\r\n",
        "from pandas import DataFrame\r\n",
        "from pandas import concat\r\n",
        "from sklearn.preprocessing import MinMaxScaler\r\n",
        "from sklearn.preprocessing import LabelEncoder\r\n",
        "from sklearn.metrics import mean_squared_error\r\n",
        "import torch\r\n",
        "import torch.nn as nn\r\n",
        "import torch.nn.functional as F\r\n",
        "import torch.optim as optim"
      ],
      "execution_count": 5,
      "outputs": []
    },
    {
      "cell_type": "code",
      "metadata": {
        "id": "7iWe2exWcKGo"
      },
      "source": [
        "with open('/content/20210101-epias-raw.pkl', 'rb') as f:\r\n",
        "    data = pickle5.load(f)"
      ],
      "execution_count": 6,
      "outputs": []
    },
    {
      "cell_type": "markdown",
      "metadata": {
        "id": "vpC0YYEdjJi-"
      },
      "source": [
        "Drop all colums of zeros: df.loc[:, (df != 0).any(axis=0)]\r\n"
      ]
    },
    {
      "cell_type": "code",
      "metadata": {
        "id": "ORkCVX7vil21"
      },
      "source": [
        "new_data = data.loc[:, (data != 0).any(axis=0)] #(index=False)"
      ],
      "execution_count": 7,
      "outputs": []
    },
    {
      "cell_type": "code",
      "metadata": {
        "colab": {
          "base_uri": "https://localhost:8080/"
        },
        "id": "mbxst3Zvw1fv",
        "outputId": "f55ae121-d4b8-40ea-a4c7-28022ded5105"
      },
      "source": [
        "new_data.shape"
      ],
      "execution_count": 9,
      "outputs": [
        {
          "output_type": "execute_result",
          "data": {
            "text/plain": [
              "(67268, 24)"
            ]
          },
          "metadata": {
            "tags": []
          },
          "execution_count": 9
        }
      ]
    },
    {
      "cell_type": "code",
      "metadata": {
        "id": "AuDrKfwiwxb5"
      },
      "source": [
        "new_data = new_data[0:67268-24*300]"
      ],
      "execution_count": 13,
      "outputs": []
    },
    {
      "cell_type": "code",
      "metadata": {
        "colab": {
          "base_uri": "https://localhost:8080/"
        },
        "id": "9UmvJCg3xO-0",
        "outputId": "3b2e83fa-2b40-4664-b7a1-e35653a65349"
      },
      "source": [
        "new_data.shape"
      ],
      "execution_count": 15,
      "outputs": [
        {
          "output_type": "execute_result",
          "data": {
            "text/plain": [
              "(60068, 24)"
            ]
          },
          "metadata": {
            "tags": []
          },
          "execution_count": 15
        }
      ]
    },
    {
      "cell_type": "code",
      "metadata": {
        "colab": {
          "base_uri": "https://localhost:8080/",
          "height": 758
        },
        "id": "dFHv6w4mxBcX",
        "outputId": "f20b98df-9fd4-4047-b374-1d719042e0a9"
      },
      "source": [
        "new_data"
      ],
      "execution_count": 16,
      "outputs": [
        {
          "output_type": "execute_result",
          "data": {
            "text/html": [
              "<div>\n",
              "<style scoped>\n",
              "    .dataframe tbody tr th:only-of-type {\n",
              "        vertical-align: middle;\n",
              "    }\n",
              "\n",
              "    .dataframe tbody tr th {\n",
              "        vertical-align: top;\n",
              "    }\n",
              "\n",
              "    .dataframe thead th {\n",
              "        text-align: right;\n",
              "    }\n",
              "</style>\n",
              "<table border=\"1\" class=\"dataframe\">\n",
              "  <thead>\n",
              "    <tr style=\"text-align: right;\">\n",
              "      <th></th>\n",
              "      <th>date</th>\n",
              "      <th>fueloil</th>\n",
              "      <th>blackCoal</th>\n",
              "      <th>lignite</th>\n",
              "      <th>geothermal</th>\n",
              "      <th>naturalGas</th>\n",
              "      <th>river</th>\n",
              "      <th>dammedHydro</th>\n",
              "      <th>lng</th>\n",
              "      <th>biomass</th>\n",
              "      <th>naphta</th>\n",
              "      <th>importCoal</th>\n",
              "      <th>asphaltiteCoal</th>\n",
              "      <th>wind</th>\n",
              "      <th>sun</th>\n",
              "      <th>importExport</th>\n",
              "      <th>total</th>\n",
              "      <th>ltotal</th>\n",
              "      <th>lwind</th>\n",
              "      <th>lbiogas</th>\n",
              "      <th>lcanalType</th>\n",
              "      <th>lbiomass</th>\n",
              "      <th>lsun</th>\n",
              "      <th>lothers</th>\n",
              "    </tr>\n",
              "  </thead>\n",
              "  <tbody>\n",
              "    <tr>\n",
              "      <th>0</th>\n",
              "      <td>2013-05-01 00:00:00</td>\n",
              "      <td>29.2</td>\n",
              "      <td>0.00</td>\n",
              "      <td>551.00</td>\n",
              "      <td>0.00</td>\n",
              "      <td>2326.01</td>\n",
              "      <td>151.49</td>\n",
              "      <td>502.38</td>\n",
              "      <td>9.3</td>\n",
              "      <td>26.35</td>\n",
              "      <td>0.0</td>\n",
              "      <td>1184.00</td>\n",
              "      <td>0.00</td>\n",
              "      <td>2.00</td>\n",
              "      <td>0.0</td>\n",
              "      <td>0.0</td>\n",
              "      <td>4781.73</td>\n",
              "      <td>0.0000</td>\n",
              "      <td>0.0000</td>\n",
              "      <td>0.0000</td>\n",
              "      <td>0.0000</td>\n",
              "      <td>0.0000</td>\n",
              "      <td>0.0000</td>\n",
              "      <td>0.0000</td>\n",
              "    </tr>\n",
              "    <tr>\n",
              "      <th>1</th>\n",
              "      <td>2013-05-01 01:00:00</td>\n",
              "      <td>29.1</td>\n",
              "      <td>0.00</td>\n",
              "      <td>544.00</td>\n",
              "      <td>0.00</td>\n",
              "      <td>2334.78</td>\n",
              "      <td>152.77</td>\n",
              "      <td>441.94</td>\n",
              "      <td>9.3</td>\n",
              "      <td>27.07</td>\n",
              "      <td>0.0</td>\n",
              "      <td>1184.00</td>\n",
              "      <td>0.00</td>\n",
              "      <td>2.00</td>\n",
              "      <td>0.0</td>\n",
              "      <td>0.0</td>\n",
              "      <td>4724.96</td>\n",
              "      <td>0.0000</td>\n",
              "      <td>0.0000</td>\n",
              "      <td>0.0000</td>\n",
              "      <td>0.0000</td>\n",
              "      <td>0.0000</td>\n",
              "      <td>0.0000</td>\n",
              "      <td>0.0000</td>\n",
              "    </tr>\n",
              "    <tr>\n",
              "      <th>2</th>\n",
              "      <td>2013-05-01 02:00:00</td>\n",
              "      <td>29.1</td>\n",
              "      <td>0.00</td>\n",
              "      <td>547.00</td>\n",
              "      <td>0.00</td>\n",
              "      <td>2157.76</td>\n",
              "      <td>151.47</td>\n",
              "      <td>430.19</td>\n",
              "      <td>9.3</td>\n",
              "      <td>26.88</td>\n",
              "      <td>0.0</td>\n",
              "      <td>1185.00</td>\n",
              "      <td>0.00</td>\n",
              "      <td>2.00</td>\n",
              "      <td>0.0</td>\n",
              "      <td>0.0</td>\n",
              "      <td>4538.70</td>\n",
              "      <td>0.0000</td>\n",
              "      <td>0.0000</td>\n",
              "      <td>0.0000</td>\n",
              "      <td>0.0000</td>\n",
              "      <td>0.0000</td>\n",
              "      <td>0.0000</td>\n",
              "      <td>0.0000</td>\n",
              "    </tr>\n",
              "    <tr>\n",
              "      <th>3</th>\n",
              "      <td>2013-05-01 03:00:00</td>\n",
              "      <td>29.0</td>\n",
              "      <td>0.00</td>\n",
              "      <td>547.00</td>\n",
              "      <td>0.00</td>\n",
              "      <td>2084.72</td>\n",
              "      <td>125.83</td>\n",
              "      <td>275.18</td>\n",
              "      <td>9.4</td>\n",
              "      <td>25.67</td>\n",
              "      <td>0.0</td>\n",
              "      <td>1183.00</td>\n",
              "      <td>0.00</td>\n",
              "      <td>1.00</td>\n",
              "      <td>0.0</td>\n",
              "      <td>0.0</td>\n",
              "      <td>4280.80</td>\n",
              "      <td>0.0000</td>\n",
              "      <td>0.0000</td>\n",
              "      <td>0.0000</td>\n",
              "      <td>0.0000</td>\n",
              "      <td>0.0000</td>\n",
              "      <td>0.0000</td>\n",
              "      <td>0.0000</td>\n",
              "    </tr>\n",
              "    <tr>\n",
              "      <th>4</th>\n",
              "      <td>2013-05-01 04:00:00</td>\n",
              "      <td>28.3</td>\n",
              "      <td>0.00</td>\n",
              "      <td>549.00</td>\n",
              "      <td>0.00</td>\n",
              "      <td>2034.68</td>\n",
              "      <td>124.35</td>\n",
              "      <td>271.86</td>\n",
              "      <td>9.4</td>\n",
              "      <td>26.45</td>\n",
              "      <td>0.0</td>\n",
              "      <td>1066.00</td>\n",
              "      <td>0.00</td>\n",
              "      <td>1.00</td>\n",
              "      <td>0.0</td>\n",
              "      <td>0.0</td>\n",
              "      <td>4111.04</td>\n",
              "      <td>0.0000</td>\n",
              "      <td>0.0000</td>\n",
              "      <td>0.0000</td>\n",
              "      <td>0.0000</td>\n",
              "      <td>0.0000</td>\n",
              "      <td>0.0000</td>\n",
              "      <td>0.0000</td>\n",
              "    </tr>\n",
              "    <tr>\n",
              "      <th>...</th>\n",
              "      <td>...</td>\n",
              "      <td>...</td>\n",
              "      <td>...</td>\n",
              "      <td>...</td>\n",
              "      <td>...</td>\n",
              "      <td>...</td>\n",
              "      <td>...</td>\n",
              "      <td>...</td>\n",
              "      <td>...</td>\n",
              "      <td>...</td>\n",
              "      <td>...</td>\n",
              "      <td>...</td>\n",
              "      <td>...</td>\n",
              "      <td>...</td>\n",
              "      <td>...</td>\n",
              "      <td>...</td>\n",
              "      <td>...</td>\n",
              "      <td>...</td>\n",
              "      <td>...</td>\n",
              "      <td>...</td>\n",
              "      <td>...</td>\n",
              "      <td>...</td>\n",
              "      <td>...</td>\n",
              "      <td>...</td>\n",
              "    </tr>\n",
              "    <tr>\n",
              "      <th>60063</th>\n",
              "      <td>2020-03-07 19:00:00</td>\n",
              "      <td>36.1</td>\n",
              "      <td>280.96</td>\n",
              "      <td>4351.81</td>\n",
              "      <td>1085.50</td>\n",
              "      <td>1819.41</td>\n",
              "      <td>4371.78</td>\n",
              "      <td>11958.95</td>\n",
              "      <td>0.0</td>\n",
              "      <td>458.16</td>\n",
              "      <td>0.0</td>\n",
              "      <td>7990.04</td>\n",
              "      <td>339.04</td>\n",
              "      <td>2971.57</td>\n",
              "      <td>0.0</td>\n",
              "      <td>239.0</td>\n",
              "      <td>35902.32</td>\n",
              "      <td>52.2281</td>\n",
              "      <td>13.2950</td>\n",
              "      <td>16.9841</td>\n",
              "      <td>4.1684</td>\n",
              "      <td>14.4191</td>\n",
              "      <td>3.0673</td>\n",
              "      <td>0.2942</td>\n",
              "    </tr>\n",
              "    <tr>\n",
              "      <th>60064</th>\n",
              "      <td>2020-03-07 20:00:00</td>\n",
              "      <td>35.7</td>\n",
              "      <td>285.53</td>\n",
              "      <td>4349.41</td>\n",
              "      <td>1100.85</td>\n",
              "      <td>1809.92</td>\n",
              "      <td>4341.69</td>\n",
              "      <td>11481.08</td>\n",
              "      <td>0.0</td>\n",
              "      <td>459.27</td>\n",
              "      <td>0.0</td>\n",
              "      <td>7983.78</td>\n",
              "      <td>340.02</td>\n",
              "      <td>2968.33</td>\n",
              "      <td>0.0</td>\n",
              "      <td>163.0</td>\n",
              "      <td>35318.58</td>\n",
              "      <td>48.6524</td>\n",
              "      <td>13.1804</td>\n",
              "      <td>16.9642</td>\n",
              "      <td>4.0431</td>\n",
              "      <td>13.9582</td>\n",
              "      <td>0.3931</td>\n",
              "      <td>0.1134</td>\n",
              "    </tr>\n",
              "    <tr>\n",
              "      <th>60065</th>\n",
              "      <td>2020-03-07 21:00:00</td>\n",
              "      <td>36.2</td>\n",
              "      <td>301.52</td>\n",
              "      <td>4360.10</td>\n",
              "      <td>1107.39</td>\n",
              "      <td>1749.12</td>\n",
              "      <td>4336.44</td>\n",
              "      <td>10677.39</td>\n",
              "      <td>0.0</td>\n",
              "      <td>464.02</td>\n",
              "      <td>0.0</td>\n",
              "      <td>7975.81</td>\n",
              "      <td>335.60</td>\n",
              "      <td>3013.95</td>\n",
              "      <td>0.0</td>\n",
              "      <td>169.0</td>\n",
              "      <td>34526.54</td>\n",
              "      <td>48.5306</td>\n",
              "      <td>13.3514</td>\n",
              "      <td>16.9729</td>\n",
              "      <td>3.9932</td>\n",
              "      <td>13.7144</td>\n",
              "      <td>0.3676</td>\n",
              "      <td>0.1311</td>\n",
              "    </tr>\n",
              "    <tr>\n",
              "      <th>60066</th>\n",
              "      <td>2020-03-07 22:00:00</td>\n",
              "      <td>36.4</td>\n",
              "      <td>307.80</td>\n",
              "      <td>4052.46</td>\n",
              "      <td>1115.12</td>\n",
              "      <td>1651.82</td>\n",
              "      <td>4313.39</td>\n",
              "      <td>9225.29</td>\n",
              "      <td>0.0</td>\n",
              "      <td>455.99</td>\n",
              "      <td>0.0</td>\n",
              "      <td>7968.84</td>\n",
              "      <td>335.60</td>\n",
              "      <td>3179.01</td>\n",
              "      <td>0.0</td>\n",
              "      <td>98.0</td>\n",
              "      <td>32739.72</td>\n",
              "      <td>49.5955</td>\n",
              "      <td>14.2639</td>\n",
              "      <td>16.9540</td>\n",
              "      <td>4.1900</td>\n",
              "      <td>13.7055</td>\n",
              "      <td>0.3663</td>\n",
              "      <td>0.1158</td>\n",
              "    </tr>\n",
              "    <tr>\n",
              "      <th>60067</th>\n",
              "      <td>2020-03-07 23:00:00</td>\n",
              "      <td>36.2</td>\n",
              "      <td>299.29</td>\n",
              "      <td>4457.36</td>\n",
              "      <td>1115.47</td>\n",
              "      <td>1470.47</td>\n",
              "      <td>4303.16</td>\n",
              "      <td>8407.34</td>\n",
              "      <td>0.0</td>\n",
              "      <td>460.60</td>\n",
              "      <td>0.0</td>\n",
              "      <td>7973.00</td>\n",
              "      <td>335.60</td>\n",
              "      <td>3264.14</td>\n",
              "      <td>0.0</td>\n",
              "      <td>0.0</td>\n",
              "      <td>32122.63</td>\n",
              "      <td>50.5083</td>\n",
              "      <td>15.0957</td>\n",
              "      <td>16.9546</td>\n",
              "      <td>4.1096</td>\n",
              "      <td>13.8236</td>\n",
              "      <td>0.3657</td>\n",
              "      <td>0.1591</td>\n",
              "    </tr>\n",
              "  </tbody>\n",
              "</table>\n",
              "<p>60068 rows × 24 columns</p>\n",
              "</div>"
            ],
            "text/plain": [
              "                     date  fueloil  blackCoal  ...  lbiomass    lsun  lothers\n",
              "0     2013-05-01 00:00:00     29.2       0.00  ...    0.0000  0.0000   0.0000\n",
              "1     2013-05-01 01:00:00     29.1       0.00  ...    0.0000  0.0000   0.0000\n",
              "2     2013-05-01 02:00:00     29.1       0.00  ...    0.0000  0.0000   0.0000\n",
              "3     2013-05-01 03:00:00     29.0       0.00  ...    0.0000  0.0000   0.0000\n",
              "4     2013-05-01 04:00:00     28.3       0.00  ...    0.0000  0.0000   0.0000\n",
              "...                   ...      ...        ...  ...       ...     ...      ...\n",
              "60063 2020-03-07 19:00:00     36.1     280.96  ...   14.4191  3.0673   0.2942\n",
              "60064 2020-03-07 20:00:00     35.7     285.53  ...   13.9582  0.3931   0.1134\n",
              "60065 2020-03-07 21:00:00     36.2     301.52  ...   13.7144  0.3676   0.1311\n",
              "60066 2020-03-07 22:00:00     36.4     307.80  ...   13.7055  0.3663   0.1158\n",
              "60067 2020-03-07 23:00:00     36.2     299.29  ...   13.8236  0.3657   0.1591\n",
              "\n",
              "[60068 rows x 24 columns]"
            ]
          },
          "metadata": {
            "tags": []
          },
          "execution_count": 16
        }
      ]
    },
    {
      "cell_type": "code",
      "metadata": {
        "id": "Kxm-V3TdUcoN"
      },
      "source": [
        "new_data = new_data.sample(frac = 1) #shuffles the rows."
      ],
      "execution_count": 17,
      "outputs": []
    },
    {
      "cell_type": "code",
      "metadata": {
        "id": "VsnV-rVp4PC7"
      },
      "source": [
        "new_data = new_data.drop(['date', 'ltotal',\t'lwind',\t'lbiogas',\t'lcanalType',\t'lbiomass',\t'lsun',\t'lothers', 'total'], axis=1)"
      ],
      "execution_count": 18,
      "outputs": []
    },
    {
      "cell_type": "code",
      "metadata": {
        "colab": {
          "base_uri": "https://localhost:8080/",
          "height": 422
        },
        "id": "jJDsGIYRELLy",
        "outputId": "fcf42ce5-b09f-455e-8c5a-e7f5a53527d8"
      },
      "source": [
        "new_data"
      ],
      "execution_count": 19,
      "outputs": [
        {
          "output_type": "execute_result",
          "data": {
            "text/html": [
              "<div>\n",
              "<style scoped>\n",
              "    .dataframe tbody tr th:only-of-type {\n",
              "        vertical-align: middle;\n",
              "    }\n",
              "\n",
              "    .dataframe tbody tr th {\n",
              "        vertical-align: top;\n",
              "    }\n",
              "\n",
              "    .dataframe thead th {\n",
              "        text-align: right;\n",
              "    }\n",
              "</style>\n",
              "<table border=\"1\" class=\"dataframe\">\n",
              "  <thead>\n",
              "    <tr style=\"text-align: right;\">\n",
              "      <th></th>\n",
              "      <th>fueloil</th>\n",
              "      <th>blackCoal</th>\n",
              "      <th>lignite</th>\n",
              "      <th>geothermal</th>\n",
              "      <th>naturalGas</th>\n",
              "      <th>river</th>\n",
              "      <th>dammedHydro</th>\n",
              "      <th>lng</th>\n",
              "      <th>biomass</th>\n",
              "      <th>naphta</th>\n",
              "      <th>importCoal</th>\n",
              "      <th>asphaltiteCoal</th>\n",
              "      <th>wind</th>\n",
              "      <th>sun</th>\n",
              "      <th>importExport</th>\n",
              "    </tr>\n",
              "  </thead>\n",
              "  <tbody>\n",
              "    <tr>\n",
              "      <th>54058</th>\n",
              "      <td>130.90</td>\n",
              "      <td>330.50</td>\n",
              "      <td>5886.93</td>\n",
              "      <td>767.34</td>\n",
              "      <td>7333.79</td>\n",
              "      <td>2559.83</td>\n",
              "      <td>8830.84</td>\n",
              "      <td>0.00</td>\n",
              "      <td>365.08</td>\n",
              "      <td>0.0</td>\n",
              "      <td>7956.27</td>\n",
              "      <td>269.30</td>\n",
              "      <td>4074.52</td>\n",
              "      <td>53.47</td>\n",
              "      <td>-80.14</td>\n",
              "    </tr>\n",
              "    <tr>\n",
              "      <th>45083</th>\n",
              "      <td>185.50</td>\n",
              "      <td>197.00</td>\n",
              "      <td>4785.24</td>\n",
              "      <td>682.45</td>\n",
              "      <td>12928.66</td>\n",
              "      <td>2698.04</td>\n",
              "      <td>6806.45</td>\n",
              "      <td>0.00</td>\n",
              "      <td>272.59</td>\n",
              "      <td>0.0</td>\n",
              "      <td>8466.50</td>\n",
              "      <td>240.66</td>\n",
              "      <td>1334.05</td>\n",
              "      <td>10.44</td>\n",
              "      <td>-450.09</td>\n",
              "    </tr>\n",
              "    <tr>\n",
              "      <th>47655</th>\n",
              "      <td>141.60</td>\n",
              "      <td>186.50</td>\n",
              "      <td>5464.64</td>\n",
              "      <td>820.82</td>\n",
              "      <td>9851.86</td>\n",
              "      <td>1037.49</td>\n",
              "      <td>5212.18</td>\n",
              "      <td>0.00</td>\n",
              "      <td>257.92</td>\n",
              "      <td>0.0</td>\n",
              "      <td>7582.96</td>\n",
              "      <td>117.02</td>\n",
              "      <td>1367.55</td>\n",
              "      <td>0.00</td>\n",
              "      <td>-514.89</td>\n",
              "    </tr>\n",
              "    <tr>\n",
              "      <th>41799</th>\n",
              "      <td>165.80</td>\n",
              "      <td>308.50</td>\n",
              "      <td>5098.35</td>\n",
              "      <td>786.86</td>\n",
              "      <td>12680.03</td>\n",
              "      <td>2417.58</td>\n",
              "      <td>5482.79</td>\n",
              "      <td>1.66</td>\n",
              "      <td>262.02</td>\n",
              "      <td>0.0</td>\n",
              "      <td>8555.70</td>\n",
              "      <td>273.78</td>\n",
              "      <td>1949.37</td>\n",
              "      <td>0.00</td>\n",
              "      <td>-166.16</td>\n",
              "    </tr>\n",
              "    <tr>\n",
              "      <th>6347</th>\n",
              "      <td>248.24</td>\n",
              "      <td>470.50</td>\n",
              "      <td>4637.68</td>\n",
              "      <td>144.30</td>\n",
              "      <td>15543.09</td>\n",
              "      <td>1055.01</td>\n",
              "      <td>4889.20</td>\n",
              "      <td>9.30</td>\n",
              "      <td>87.92</td>\n",
              "      <td>0.0</td>\n",
              "      <td>3607.00</td>\n",
              "      <td>41.95</td>\n",
              "      <td>1660.35</td>\n",
              "      <td>0.00</td>\n",
              "      <td>0.00</td>\n",
              "    </tr>\n",
              "    <tr>\n",
              "      <th>...</th>\n",
              "      <td>...</td>\n",
              "      <td>...</td>\n",
              "      <td>...</td>\n",
              "      <td>...</td>\n",
              "      <td>...</td>\n",
              "      <td>...</td>\n",
              "      <td>...</td>\n",
              "      <td>...</td>\n",
              "      <td>...</td>\n",
              "      <td>...</td>\n",
              "      <td>...</td>\n",
              "      <td>...</td>\n",
              "      <td>...</td>\n",
              "      <td>...</td>\n",
              "      <td>...</td>\n",
              "    </tr>\n",
              "    <tr>\n",
              "      <th>44570</th>\n",
              "      <td>189.50</td>\n",
              "      <td>319.50</td>\n",
              "      <td>5164.67</td>\n",
              "      <td>825.67</td>\n",
              "      <td>5203.81</td>\n",
              "      <td>3608.23</td>\n",
              "      <td>3651.16</td>\n",
              "      <td>0.00</td>\n",
              "      <td>241.00</td>\n",
              "      <td>0.0</td>\n",
              "      <td>4732.70</td>\n",
              "      <td>280.40</td>\n",
              "      <td>2300.07</td>\n",
              "      <td>1.02</td>\n",
              "      <td>-384.89</td>\n",
              "    </tr>\n",
              "    <tr>\n",
              "      <th>29108</th>\n",
              "      <td>200.10</td>\n",
              "      <td>350.50</td>\n",
              "      <td>4969.76</td>\n",
              "      <td>464.09</td>\n",
              "      <td>11910.06</td>\n",
              "      <td>871.06</td>\n",
              "      <td>3275.23</td>\n",
              "      <td>8.80</td>\n",
              "      <td>171.89</td>\n",
              "      <td>0.0</td>\n",
              "      <td>6492.85</td>\n",
              "      <td>388.59</td>\n",
              "      <td>3404.55</td>\n",
              "      <td>0.00</td>\n",
              "      <td>0.00</td>\n",
              "    </tr>\n",
              "    <tr>\n",
              "      <th>40425</th>\n",
              "      <td>162.90</td>\n",
              "      <td>348.50</td>\n",
              "      <td>4305.98</td>\n",
              "      <td>728.74</td>\n",
              "      <td>12061.74</td>\n",
              "      <td>1167.49</td>\n",
              "      <td>1822.22</td>\n",
              "      <td>1.66</td>\n",
              "      <td>240.77</td>\n",
              "      <td>0.0</td>\n",
              "      <td>6131.93</td>\n",
              "      <td>275.99</td>\n",
              "      <td>4050.84</td>\n",
              "      <td>8.63</td>\n",
              "      <td>0.00</td>\n",
              "    </tr>\n",
              "    <tr>\n",
              "      <th>41414</th>\n",
              "      <td>178.50</td>\n",
              "      <td>308.00</td>\n",
              "      <td>4617.89</td>\n",
              "      <td>805.39</td>\n",
              "      <td>10714.88</td>\n",
              "      <td>2253.17</td>\n",
              "      <td>6516.63</td>\n",
              "      <td>1.61</td>\n",
              "      <td>250.91</td>\n",
              "      <td>0.0</td>\n",
              "      <td>7008.64</td>\n",
              "      <td>273.78</td>\n",
              "      <td>4829.51</td>\n",
              "      <td>0.01</td>\n",
              "      <td>-235.00</td>\n",
              "    </tr>\n",
              "    <tr>\n",
              "      <th>55917</th>\n",
              "      <td>27.80</td>\n",
              "      <td>565.27</td>\n",
              "      <td>5963.50</td>\n",
              "      <td>958.28</td>\n",
              "      <td>7909.09</td>\n",
              "      <td>1241.68</td>\n",
              "      <td>3874.55</td>\n",
              "      <td>0.00</td>\n",
              "      <td>381.04</td>\n",
              "      <td>0.0</td>\n",
              "      <td>8246.45</td>\n",
              "      <td>333.40</td>\n",
              "      <td>1150.94</td>\n",
              "      <td>0.00</td>\n",
              "      <td>-179.13</td>\n",
              "    </tr>\n",
              "  </tbody>\n",
              "</table>\n",
              "<p>60068 rows × 15 columns</p>\n",
              "</div>"
            ],
            "text/plain": [
              "       fueloil  blackCoal  lignite  ...     wind    sun  importExport\n",
              "54058   130.90     330.50  5886.93  ...  4074.52  53.47        -80.14\n",
              "45083   185.50     197.00  4785.24  ...  1334.05  10.44       -450.09\n",
              "47655   141.60     186.50  5464.64  ...  1367.55   0.00       -514.89\n",
              "41799   165.80     308.50  5098.35  ...  1949.37   0.00       -166.16\n",
              "6347    248.24     470.50  4637.68  ...  1660.35   0.00          0.00\n",
              "...        ...        ...      ...  ...      ...    ...           ...\n",
              "44570   189.50     319.50  5164.67  ...  2300.07   1.02       -384.89\n",
              "29108   200.10     350.50  4969.76  ...  3404.55   0.00          0.00\n",
              "40425   162.90     348.50  4305.98  ...  4050.84   8.63          0.00\n",
              "41414   178.50     308.00  4617.89  ...  4829.51   0.01       -235.00\n",
              "55917    27.80     565.27  5963.50  ...  1150.94   0.00       -179.13\n",
              "\n",
              "[60068 rows x 15 columns]"
            ]
          },
          "metadata": {
            "tags": []
          },
          "execution_count": 19
        }
      ]
    },
    {
      "cell_type": "code",
      "metadata": {
        "id": "ZRpdxwU3B7Yi"
      },
      "source": [
        "target = new_data.drop(['fueloil',\t'blackCoal',\t'lignite',\t'geothermal',\t'river',\t'dammedHydro',\t'lng',\t'biomass',\t'naphta',\t'importCoal',\t'asphaltiteCoal',\t'wind',\t'sun',\t'importExport'], axis=1)"
      ],
      "execution_count": 20,
      "outputs": []
    },
    {
      "cell_type": "code",
      "metadata": {
        "id": "ygTVHEfcERtq"
      },
      "source": [
        "target = target.to_numpy()"
      ],
      "execution_count": 21,
      "outputs": []
    },
    {
      "cell_type": "code",
      "metadata": {
        "id": "vL3RCqnID6JC"
      },
      "source": [
        "data = new_data.drop(['naturalGas'], axis=1)"
      ],
      "execution_count": 22,
      "outputs": []
    },
    {
      "cell_type": "code",
      "metadata": {
        "id": "C0FCv2jyEV2s"
      },
      "source": [
        "data = data.to_numpy()"
      ],
      "execution_count": 23,
      "outputs": []
    },
    {
      "cell_type": "markdown",
      "metadata": {
        "id": "w_4GBZbldZX-"
      },
      "source": [
        "To-do:\r\n",
        "  Get the data in such a format that it can work with the other notebook.\r\n",
        "  \r\n",
        "  1- Extract the date element.\r\n",
        "\r\n",
        "  2- Normalize all features in the input part of the data.\r\n",
        "\r\n",
        "  3- Create the inputs and the targets.\r\n",
        "\r\n",
        "  4- Create train and test sets.\r\n",
        "\r\n",
        "  5- \r\n",
        "\r\n",
        "  6- "
      ]
    },
    {
      "cell_type": "code",
      "metadata": {
        "colab": {
          "base_uri": "https://localhost:8080/"
        },
        "id": "lz_o3Bf4boM1",
        "outputId": "3b6ae01b-7b26-4238-84bb-9ce66bd64a86"
      },
      "source": [
        "# integer encode direction\r\n",
        "#encoder = LabelEncoder()\r\n",
        "#new_data[:,4] = encoder.fit_transform(new_data[:,4])\r\n",
        "# ensure all data is float\r\n",
        "\r\n",
        "#values = values.astype('float32')\r\n",
        "# normalize features\r\n",
        "scaler = MinMaxScaler(feature_range=(0, 1))\r\n",
        "data = scaler.fit_transform(data)\r\n",
        "target = scaler.fit_transform(target)\r\n",
        "\r\n",
        "print(data.shape)\r\n",
        "print(target.shape)\r\n",
        "#reframed = series_to_supervised(scaled, n_hours, 1)\r\n",
        "#print(reframed.shape)"
      ],
      "execution_count": 24,
      "outputs": [
        {
          "output_type": "stream",
          "text": [
            "(60068, 14)\n",
            "(60068, 1)\n"
          ],
          "name": "stdout"
        }
      ]
    },
    {
      "cell_type": "code",
      "metadata": {
        "id": "kwZivybOFk5-"
      },
      "source": [
        "train_x = data[0:42000]\r\n",
        "train_y = target[0:42000]\r\n",
        "\r\n",
        "val_x = data[42000:54000]\r\n",
        "val_y = target[42000:54000]\r\n",
        "\r\n",
        "test_x = data[54000:60068]\r\n",
        "test_y = target[54000:60068]"
      ],
      "execution_count": 29,
      "outputs": []
    },
    {
      "cell_type": "code",
      "metadata": {
        "id": "48mDYPiiJfxt"
      },
      "source": [
        "class LSTM(nn.Module):\r\n",
        "\r\n",
        "  def __init__(self):\r\n",
        "    super(LSTM, self).__init__()\r\n",
        "\r\n",
        "    self.lstm = nn.LSTM(input_size=14, hidden_size=300, num_layers=3)\r\n",
        "    self.FC = nn.Linear(300, 1)\r\n",
        "\r\n",
        "  def forward(self, input):\r\n",
        "    pred, _ = self.lstm(input)\r\n",
        "\r\n",
        "    pred = self.FC(pred.view(300))\r\n",
        "\r\n",
        "    return pred"
      ],
      "execution_count": 30,
      "outputs": []
    },
    {
      "cell_type": "code",
      "metadata": {
        "id": "oF0ge_gOJiTi"
      },
      "source": [
        "model = LSTM().to(device)"
      ],
      "execution_count": 31,
      "outputs": []
    },
    {
      "cell_type": "code",
      "metadata": {
        "colab": {
          "base_uri": "https://localhost:8080/"
        },
        "id": "prdL6nVX5l9u",
        "outputId": "8b8bbcd0-8126-4b8c-d67a-452d759b5700"
      },
      "source": [
        "sum(p.numel() for p in model.parameters())"
      ],
      "execution_count": 32,
      "outputs": [
        {
          "output_type": "execute_result",
          "data": {
            "text/plain": [
              "1824301"
            ]
          },
          "metadata": {
            "tags": []
          },
          "execution_count": 32
        }
      ]
    },
    {
      "cell_type": "code",
      "metadata": {
        "id": "7iuxhjBXJiQm"
      },
      "source": [
        "loss_function = nn.L1Loss()\r\n",
        "optimizer = optim.Adam(model.parameters(), lr=1e-5)"
      ],
      "execution_count": 33,
      "outputs": []
    },
    {
      "cell_type": "code",
      "metadata": {
        "id": "YwdaiI0bJiNY"
      },
      "source": [
        "train_loss_hist = []\r\n",
        "val_loss_hist = []"
      ],
      "execution_count": 34,
      "outputs": []
    },
    {
      "cell_type": "code",
      "metadata": {
        "id": "70IW6m21JiKJ",
        "colab": {
          "base_uri": "https://localhost:8080/",
          "height": 441
        },
        "outputId": "c616a34c-6ee5-4008-8154-c947f0b7ed49"
      },
      "source": [
        "for epoch in range(80):\r\n",
        "  train_loss = 0.0\r\n",
        "  val_loss = 0.0\r\n",
        "\r\n",
        "  for i in range(train_x.shape[0]):\r\n",
        "    data = torch.Tensor(train_x[i]).unsqueeze(0).unsqueeze(0)    \r\n",
        "    data = data.to(device)\r\n",
        "\r\n",
        "    model.train()\r\n",
        "    optimizer.zero_grad()\r\n",
        "\r\n",
        "    prediction = model(data)\r\n",
        "\r\n",
        "    #print(\"Train --- prediction: \" + str(prediction) + \" , GT: \" + str(train_y[i]))\r\n",
        "\r\n",
        "    loss = loss_function(prediction, torch.Tensor([train_y[i]]).to(device))\r\n",
        "\r\n",
        "    train_loss += loss.item()\r\n",
        "\r\n",
        "    loss.backward()\r\n",
        "    optimizer.step()\r\n",
        "\r\n",
        "  with torch.no_grad():\r\n",
        "    for i in range(val_x.shape[0]):\r\n",
        "      data = torch.Tensor(val_x[i]).unsqueeze(0).unsqueeze(0)\r\n",
        "      data = data.to(device)\r\n",
        "\r\n",
        "      prediction = model(data)\r\n",
        "\r\n",
        "      #print(\"Validate --- prediction: \" + str(prediction) + \" , GT: \" + str(val_y[i]))\r\n",
        "\r\n",
        "      loss = loss_function(prediction, torch.Tensor([val_y[i]]).to(device))\r\n",
        "      val_loss += loss.item()\r\n",
        "\r\n",
        "  train_loss = train_loss / train_x.shape[0]\r\n",
        "  val_loss = val_loss / val_x.shape[0]\r\n",
        "\r\n",
        "  train_loss_hist.append(train_loss)\r\n",
        "  val_loss_hist.append(val_loss)\r\n",
        "\r\n",
        "  print(\"Epoch \" + str(epoch) + \" ---> Train loss: \" +  str(train_loss) + \" --- Validation loss: \" + str(val_loss))\r\n"
      ],
      "execution_count": 37,
      "outputs": [
        {
          "output_type": "stream",
          "text": [
            "/usr/local/lib/python3.6/dist-packages/torch/nn/modules/loss.py:94: UserWarning: Using a target size (torch.Size([1, 1])) that is different to the input size (torch.Size([1])). This will likely lead to incorrect results due to broadcasting. Please ensure they have the same size.\n",
            "  return F.l1_loss(input, target, reduction=self.reduction)\n"
          ],
          "name": "stderr"
        },
        {
          "output_type": "error",
          "ename": "KeyboardInterrupt",
          "evalue": "ignored",
          "traceback": [
            "\u001b[0;31m---------------------------------------------------------------------------\u001b[0m",
            "\u001b[0;31mKeyboardInterrupt\u001b[0m                         Traceback (most recent call last)",
            "\u001b[0;32m<ipython-input-37-1ec05695de50>\u001b[0m in \u001b[0;36m<module>\u001b[0;34m()\u001b[0m\n\u001b[1;32m     19\u001b[0m \u001b[0;34m\u001b[0m\u001b[0m\n\u001b[1;32m     20\u001b[0m     \u001b[0mloss\u001b[0m\u001b[0;34m.\u001b[0m\u001b[0mbackward\u001b[0m\u001b[0;34m(\u001b[0m\u001b[0;34m)\u001b[0m\u001b[0;34m\u001b[0m\u001b[0;34m\u001b[0m\u001b[0m\n\u001b[0;32m---> 21\u001b[0;31m     \u001b[0moptimizer\u001b[0m\u001b[0;34m.\u001b[0m\u001b[0mstep\u001b[0m\u001b[0;34m(\u001b[0m\u001b[0;34m)\u001b[0m\u001b[0;34m\u001b[0m\u001b[0;34m\u001b[0m\u001b[0m\n\u001b[0m\u001b[1;32m     22\u001b[0m \u001b[0;34m\u001b[0m\u001b[0m\n\u001b[1;32m     23\u001b[0m   \u001b[0;32mwith\u001b[0m \u001b[0mtorch\u001b[0m\u001b[0;34m.\u001b[0m\u001b[0mno_grad\u001b[0m\u001b[0;34m(\u001b[0m\u001b[0;34m)\u001b[0m\u001b[0;34m:\u001b[0m\u001b[0;34m\u001b[0m\u001b[0;34m\u001b[0m\u001b[0m\n",
            "\u001b[0;32m/usr/local/lib/python3.6/dist-packages/torch/autograd/grad_mode.py\u001b[0m in \u001b[0;36mdecorate_context\u001b[0;34m(*args, **kwargs)\u001b[0m\n\u001b[1;32m     24\u001b[0m         \u001b[0;32mdef\u001b[0m \u001b[0mdecorate_context\u001b[0m\u001b[0;34m(\u001b[0m\u001b[0;34m*\u001b[0m\u001b[0margs\u001b[0m\u001b[0;34m,\u001b[0m \u001b[0;34m**\u001b[0m\u001b[0mkwargs\u001b[0m\u001b[0;34m)\u001b[0m\u001b[0;34m:\u001b[0m\u001b[0;34m\u001b[0m\u001b[0;34m\u001b[0m\u001b[0m\n\u001b[1;32m     25\u001b[0m             \u001b[0;32mwith\u001b[0m \u001b[0mself\u001b[0m\u001b[0;34m.\u001b[0m\u001b[0m__class__\u001b[0m\u001b[0;34m(\u001b[0m\u001b[0;34m)\u001b[0m\u001b[0;34m:\u001b[0m\u001b[0;34m\u001b[0m\u001b[0;34m\u001b[0m\u001b[0m\n\u001b[0;32m---> 26\u001b[0;31m                 \u001b[0;32mreturn\u001b[0m \u001b[0mfunc\u001b[0m\u001b[0;34m(\u001b[0m\u001b[0;34m*\u001b[0m\u001b[0margs\u001b[0m\u001b[0;34m,\u001b[0m \u001b[0;34m**\u001b[0m\u001b[0mkwargs\u001b[0m\u001b[0;34m)\u001b[0m\u001b[0;34m\u001b[0m\u001b[0;34m\u001b[0m\u001b[0m\n\u001b[0m\u001b[1;32m     27\u001b[0m         \u001b[0;32mreturn\u001b[0m \u001b[0mcast\u001b[0m\u001b[0;34m(\u001b[0m\u001b[0mF\u001b[0m\u001b[0;34m,\u001b[0m \u001b[0mdecorate_context\u001b[0m\u001b[0;34m)\u001b[0m\u001b[0;34m\u001b[0m\u001b[0;34m\u001b[0m\u001b[0m\n\u001b[1;32m     28\u001b[0m \u001b[0;34m\u001b[0m\u001b[0m\n",
            "\u001b[0;32m/usr/local/lib/python3.6/dist-packages/torch/optim/adam.py\u001b[0m in \u001b[0;36mstep\u001b[0;34m(self, closure)\u001b[0m\n\u001b[1;32m    117\u001b[0m                    \u001b[0mgroup\u001b[0m\u001b[0;34m[\u001b[0m\u001b[0;34m'lr'\u001b[0m\u001b[0;34m]\u001b[0m\u001b[0;34m,\u001b[0m\u001b[0;34m\u001b[0m\u001b[0;34m\u001b[0m\u001b[0m\n\u001b[1;32m    118\u001b[0m                    \u001b[0mgroup\u001b[0m\u001b[0;34m[\u001b[0m\u001b[0;34m'weight_decay'\u001b[0m\u001b[0;34m]\u001b[0m\u001b[0;34m,\u001b[0m\u001b[0;34m\u001b[0m\u001b[0;34m\u001b[0m\u001b[0m\n\u001b[0;32m--> 119\u001b[0;31m                    \u001b[0mgroup\u001b[0m\u001b[0;34m[\u001b[0m\u001b[0;34m'eps'\u001b[0m\u001b[0;34m]\u001b[0m\u001b[0;34m\u001b[0m\u001b[0;34m\u001b[0m\u001b[0m\n\u001b[0m\u001b[1;32m    120\u001b[0m                    )\n\u001b[1;32m    121\u001b[0m         \u001b[0;32mreturn\u001b[0m \u001b[0mloss\u001b[0m\u001b[0;34m\u001b[0m\u001b[0;34m\u001b[0m\u001b[0m\n",
            "\u001b[0;32m/usr/local/lib/python3.6/dist-packages/torch/optim/functional.py\u001b[0m in \u001b[0;36madam\u001b[0;34m(params, grads, exp_avgs, exp_avg_sqs, max_exp_avg_sqs, state_steps, amsgrad, beta1, beta2, lr, weight_decay, eps)\u001b[0m\n\u001b[1;32m     92\u001b[0m             \u001b[0mdenom\u001b[0m \u001b[0;34m=\u001b[0m \u001b[0;34m(\u001b[0m\u001b[0mmax_exp_avg_sq\u001b[0m\u001b[0;34m.\u001b[0m\u001b[0msqrt\u001b[0m\u001b[0;34m(\u001b[0m\u001b[0;34m)\u001b[0m \u001b[0;34m/\u001b[0m \u001b[0mmath\u001b[0m\u001b[0;34m.\u001b[0m\u001b[0msqrt\u001b[0m\u001b[0;34m(\u001b[0m\u001b[0mbias_correction2\u001b[0m\u001b[0;34m)\u001b[0m\u001b[0;34m)\u001b[0m\u001b[0;34m.\u001b[0m\u001b[0madd_\u001b[0m\u001b[0;34m(\u001b[0m\u001b[0meps\u001b[0m\u001b[0;34m)\u001b[0m\u001b[0;34m\u001b[0m\u001b[0;34m\u001b[0m\u001b[0m\n\u001b[1;32m     93\u001b[0m         \u001b[0;32melse\u001b[0m\u001b[0;34m:\u001b[0m\u001b[0;34m\u001b[0m\u001b[0;34m\u001b[0m\u001b[0m\n\u001b[0;32m---> 94\u001b[0;31m             \u001b[0mdenom\u001b[0m \u001b[0;34m=\u001b[0m \u001b[0;34m(\u001b[0m\u001b[0mexp_avg_sq\u001b[0m\u001b[0;34m.\u001b[0m\u001b[0msqrt\u001b[0m\u001b[0;34m(\u001b[0m\u001b[0;34m)\u001b[0m \u001b[0;34m/\u001b[0m \u001b[0mmath\u001b[0m\u001b[0;34m.\u001b[0m\u001b[0msqrt\u001b[0m\u001b[0;34m(\u001b[0m\u001b[0mbias_correction2\u001b[0m\u001b[0;34m)\u001b[0m\u001b[0;34m)\u001b[0m\u001b[0;34m.\u001b[0m\u001b[0madd_\u001b[0m\u001b[0;34m(\u001b[0m\u001b[0meps\u001b[0m\u001b[0;34m)\u001b[0m\u001b[0;34m\u001b[0m\u001b[0;34m\u001b[0m\u001b[0m\n\u001b[0m\u001b[1;32m     95\u001b[0m \u001b[0;34m\u001b[0m\u001b[0m\n\u001b[1;32m     96\u001b[0m         \u001b[0mstep_size\u001b[0m \u001b[0;34m=\u001b[0m \u001b[0mlr\u001b[0m \u001b[0;34m/\u001b[0m \u001b[0mbias_correction1\u001b[0m\u001b[0;34m\u001b[0m\u001b[0;34m\u001b[0m\u001b[0m\n",
            "\u001b[0;31mKeyboardInterrupt\u001b[0m: "
          ]
        }
      ]
    },
    {
      "cell_type": "code",
      "metadata": {
        "colab": {
          "base_uri": "https://localhost:8080/",
          "height": 282
        },
        "id": "V0VMCc4zJiHN",
        "outputId": "5ce2549e-87f3-4f06-a18b-0cc291670972"
      },
      "source": [
        "pyplot.plot(train_loss_hist)\r\n",
        "pyplot.plot(test_loss_hist)\r\n"
      ],
      "execution_count": null,
      "outputs": [
        {
          "output_type": "execute_result",
          "data": {
            "text/plain": [
              "[<matplotlib.lines.Line2D at 0x7fc8582d1748>]"
            ]
          },
          "metadata": {
            "tags": []
          },
          "execution_count": 27
        },
        {
          "output_type": "display_data",
          "data": {
            "image/png": "[encoded data removed]",
            "text/plain": [
              "<Figure size 432x288 with 1 Axes>"
            ]
          },
          "metadata": {
            "tags": [],
            "needs_background": "light"
          }
        }
      ]
    },
    {
      "cell_type": "code",
      "metadata": {
        "id": "6KFvJE4IJjhK"
      },
      "source": [
        ""
      ],
      "execution_count": null,
      "outputs": []
    },
    {
      "cell_type": "code",
      "metadata": {
        "id": "wMNzzBZ6JjeO"
      },
      "source": [
        ""
      ],
      "execution_count": null,
      "outputs": []
    },
    {
      "cell_type": "code",
      "metadata": {
        "id": "e2TG7y-XJjbF"
      },
      "source": [
        ""
      ],
      "execution_count": null,
      "outputs": []
    }
  ]
}