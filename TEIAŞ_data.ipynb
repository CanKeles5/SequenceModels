{
  "nbformat": 4,
  "nbformat_minor": 0,
  "metadata": {
    "colab": {
      "name": "TEIAŞ-data.ipynb",
      "provenance": [],
      "collapsed_sections": [],
      "authorship_tag": "ABX9TyM6kyo3hqb4OV5hPYukrup7",
      "include_colab_link": true
    },
    "kernelspec": {
      "name": "python3",
      "display_name": "Python 3"
    }
  },
  "cells": [
    {
      "cell_type": "markdown",
      "metadata": {
        "id": "view-in-github",
        "colab_type": "text"
      },
      "source": [
        "<a href=\"https://colab.research.google.com/github/CanKeles5/SequenceModels/blob/main/TEIA%C5%9E_data.ipynb\" target=\"_parent\"><img src=\"https://colab.research.google.com/assets/colab-badge.svg\" alt=\"Open In Colab\"/></a>"
      ]
    },
    {
      "cell_type": "code",
      "metadata": {
        "id": "pQcVLbbQncsR"
      },
      "source": [
        "%matplotlib inline"
      ],
      "execution_count": 1,
      "outputs": []
    },
    {
      "cell_type": "code",
      "metadata": {
        "colab": {
          "base_uri": "https://localhost:8080/"
        },
        "id": "4Y101PUHcuAh",
        "outputId": "eca5bb50-94b4-44b7-9734-6ee7f7808a45"
      },
      "source": [
        "! pip install pickle5"
      ],
      "execution_count": 2,
      "outputs": [
        {
          "output_type": "stream",
          "text": [
            "Collecting pickle5\n",
            "\u001b[?25l  Downloading https://files.pythonhosted.org/packages/f7/4c/5c4dd0462c8d3a6bc4af500a6af240763c2ebd1efdc736fc2c946d44b70a/pickle5-0.0.11.tar.gz (132kB)\n",
            "\u001b[K     |████████████████████████████████| 133kB 5.3MB/s \n",
            "\u001b[?25hBuilding wheels for collected packages: pickle5\n",
            "  Building wheel for pickle5 (setup.py) ... \u001b[?25l\u001b[?25hdone\n",
            "  Created wheel for pickle5: filename=pickle5-0.0.11-cp36-cp36m-linux_x86_64.whl size=218626 sha256=be67f61714df33d6b978224cdf4ea5e0d98fd03defc495ece7714d157e2939ce\n",
            "  Stored in directory: /root/.cache/pip/wheels/a6/90/95/f889ca4aa8b0e0c7f21c8470b6f5d6032f0390a3a141a9a3bd\n",
            "Successfully built pickle5\n",
            "Installing collected packages: pickle5\n",
            "Successfully installed pickle5-0.0.11\n"
          ],
          "name": "stdout"
        }
      ]
    },
    {
      "cell_type": "code",
      "metadata": {
        "id": "8lgRPeJqndlf"
      },
      "source": [
        "import pickle5\r\n",
        "from math import sqrt\r\n",
        "from datetime import datetime\r\n",
        "from numpy import concatenate\r\n",
        "from matplotlib import pyplot\r\n",
        "from pandas import read_csv\r\n",
        "from pandas import DataFrame\r\n",
        "from pandas import concat\r\n",
        "from sklearn.preprocessing import MinMaxScaler\r\n",
        "from sklearn.preprocessing import LabelEncoder\r\n",
        "from sklearn.metrics import mean_squared_error\r\n",
        "import torch\r\n",
        "import torch.nn as nn\r\n",
        "import torch.nn.functional as F\r\n",
        "import torch.optim as optim"
      ],
      "execution_count": 3,
      "outputs": []
    },
    {
      "cell_type": "code",
      "metadata": {
        "id": "7iWe2exWcKGo"
      },
      "source": [
        "with open('/content/20210101-epias-raw.pkl', 'rb') as f:\r\n",
        "    data = pickle5.load(f)"
      ],
      "execution_count": 4,
      "outputs": []
    },
    {
      "cell_type": "markdown",
      "metadata": {
        "id": "vpC0YYEdjJi-"
      },
      "source": [
        "Drop all colums of zeros: df.loc[:, (df != 0).any(axis=0)]\r\n"
      ]
    },
    {
      "cell_type": "code",
      "metadata": {
        "id": "ORkCVX7vil21"
      },
      "source": [
        "new_data = data.loc[:, (data != 0).any(axis=0)] #(index=False)"
      ],
      "execution_count": 5,
      "outputs": []
    },
    {
      "cell_type": "code",
      "metadata": {
        "id": "VsnV-rVp4PC7"
      },
      "source": [
        "new_data = new_data.drop(['date', 'ltotal',\t'lwind',\t'lbiogas',\t'lcanalType',\t'lbiomass',\t'lsun',\t'lothers'], axis=1)"
      ],
      "execution_count": 6,
      "outputs": []
    },
    {
      "cell_type": "code",
      "metadata": {
        "id": "i3jtf70TnWcD",
        "colab": {
          "base_uri": "https://localhost:8080/",
          "height": 422
        },
        "outputId": "f4ed2a66-9f5b-4c54-9591-0a2bce622bd6"
      },
      "source": [
        "(new_data)"
      ],
      "execution_count": 7,
      "outputs": [
        {
          "output_type": "execute_result",
          "data": {
            "text/html": [
              "<div>\n",
              "<style scoped>\n",
              "    .dataframe tbody tr th:only-of-type {\n",
              "        vertical-align: middle;\n",
              "    }\n",
              "\n",
              "    .dataframe tbody tr th {\n",
              "        vertical-align: top;\n",
              "    }\n",
              "\n",
              "    .dataframe thead th {\n",
              "        text-align: right;\n",
              "    }\n",
              "</style>\n",
              "<table border=\"1\" class=\"dataframe\">\n",
              "  <thead>\n",
              "    <tr style=\"text-align: right;\">\n",
              "      <th></th>\n",
              "      <th>fueloil</th>\n",
              "      <th>blackCoal</th>\n",
              "      <th>lignite</th>\n",
              "      <th>geothermal</th>\n",
              "      <th>naturalGas</th>\n",
              "      <th>river</th>\n",
              "      <th>dammedHydro</th>\n",
              "      <th>lng</th>\n",
              "      <th>biomass</th>\n",
              "      <th>naphta</th>\n",
              "      <th>importCoal</th>\n",
              "      <th>asphaltiteCoal</th>\n",
              "      <th>wind</th>\n",
              "      <th>sun</th>\n",
              "      <th>importExport</th>\n",
              "      <th>total</th>\n",
              "    </tr>\n",
              "  </thead>\n",
              "  <tbody>\n",
              "    <tr>\n",
              "      <th>0</th>\n",
              "      <td>29.2</td>\n",
              "      <td>0.00</td>\n",
              "      <td>551.00</td>\n",
              "      <td>0.00</td>\n",
              "      <td>2326.01</td>\n",
              "      <td>151.49</td>\n",
              "      <td>502.38</td>\n",
              "      <td>9.3</td>\n",
              "      <td>26.35</td>\n",
              "      <td>0.0</td>\n",
              "      <td>1184.00</td>\n",
              "      <td>0.00</td>\n",
              "      <td>2.00</td>\n",
              "      <td>0.0</td>\n",
              "      <td>0.00</td>\n",
              "      <td>4781.73</td>\n",
              "    </tr>\n",
              "    <tr>\n",
              "      <th>1</th>\n",
              "      <td>29.1</td>\n",
              "      <td>0.00</td>\n",
              "      <td>544.00</td>\n",
              "      <td>0.00</td>\n",
              "      <td>2334.78</td>\n",
              "      <td>152.77</td>\n",
              "      <td>441.94</td>\n",
              "      <td>9.3</td>\n",
              "      <td>27.07</td>\n",
              "      <td>0.0</td>\n",
              "      <td>1184.00</td>\n",
              "      <td>0.00</td>\n",
              "      <td>2.00</td>\n",
              "      <td>0.0</td>\n",
              "      <td>0.00</td>\n",
              "      <td>4724.96</td>\n",
              "    </tr>\n",
              "    <tr>\n",
              "      <th>2</th>\n",
              "      <td>29.1</td>\n",
              "      <td>0.00</td>\n",
              "      <td>547.00</td>\n",
              "      <td>0.00</td>\n",
              "      <td>2157.76</td>\n",
              "      <td>151.47</td>\n",
              "      <td>430.19</td>\n",
              "      <td>9.3</td>\n",
              "      <td>26.88</td>\n",
              "      <td>0.0</td>\n",
              "      <td>1185.00</td>\n",
              "      <td>0.00</td>\n",
              "      <td>2.00</td>\n",
              "      <td>0.0</td>\n",
              "      <td>0.00</td>\n",
              "      <td>4538.70</td>\n",
              "    </tr>\n",
              "    <tr>\n",
              "      <th>3</th>\n",
              "      <td>29.0</td>\n",
              "      <td>0.00</td>\n",
              "      <td>547.00</td>\n",
              "      <td>0.00</td>\n",
              "      <td>2084.72</td>\n",
              "      <td>125.83</td>\n",
              "      <td>275.18</td>\n",
              "      <td>9.4</td>\n",
              "      <td>25.67</td>\n",
              "      <td>0.0</td>\n",
              "      <td>1183.00</td>\n",
              "      <td>0.00</td>\n",
              "      <td>1.00</td>\n",
              "      <td>0.0</td>\n",
              "      <td>0.00</td>\n",
              "      <td>4280.80</td>\n",
              "    </tr>\n",
              "    <tr>\n",
              "      <th>4</th>\n",
              "      <td>28.3</td>\n",
              "      <td>0.00</td>\n",
              "      <td>549.00</td>\n",
              "      <td>0.00</td>\n",
              "      <td>2034.68</td>\n",
              "      <td>124.35</td>\n",
              "      <td>271.86</td>\n",
              "      <td>9.4</td>\n",
              "      <td>26.45</td>\n",
              "      <td>0.0</td>\n",
              "      <td>1066.00</td>\n",
              "      <td>0.00</td>\n",
              "      <td>1.00</td>\n",
              "      <td>0.0</td>\n",
              "      <td>0.00</td>\n",
              "      <td>4111.04</td>\n",
              "    </tr>\n",
              "    <tr>\n",
              "      <th>...</th>\n",
              "      <td>...</td>\n",
              "      <td>...</td>\n",
              "      <td>...</td>\n",
              "      <td>...</td>\n",
              "      <td>...</td>\n",
              "      <td>...</td>\n",
              "      <td>...</td>\n",
              "      <td>...</td>\n",
              "      <td>...</td>\n",
              "      <td>...</td>\n",
              "      <td>...</td>\n",
              "      <td>...</td>\n",
              "      <td>...</td>\n",
              "      <td>...</td>\n",
              "      <td>...</td>\n",
              "      <td>...</td>\n",
              "    </tr>\n",
              "    <tr>\n",
              "      <th>67263</th>\n",
              "      <td>36.3</td>\n",
              "      <td>625.95</td>\n",
              "      <td>4916.02</td>\n",
              "      <td>1237.17</td>\n",
              "      <td>8912.15</td>\n",
              "      <td>1252.61</td>\n",
              "      <td>6215.11</td>\n",
              "      <td>0.0</td>\n",
              "      <td>581.21</td>\n",
              "      <td>0.0</td>\n",
              "      <td>7909.62</td>\n",
              "      <td>220.80</td>\n",
              "      <td>1265.85</td>\n",
              "      <td>0.0</td>\n",
              "      <td>-167.33</td>\n",
              "      <td>33005.46</td>\n",
              "    </tr>\n",
              "    <tr>\n",
              "      <th>67264</th>\n",
              "      <td>36.2</td>\n",
              "      <td>620.18</td>\n",
              "      <td>4808.25</td>\n",
              "      <td>1238.56</td>\n",
              "      <td>9068.42</td>\n",
              "      <td>1153.29</td>\n",
              "      <td>5573.13</td>\n",
              "      <td>0.0</td>\n",
              "      <td>563.34</td>\n",
              "      <td>0.0</td>\n",
              "      <td>7795.01</td>\n",
              "      <td>223.00</td>\n",
              "      <td>1262.36</td>\n",
              "      <td>0.0</td>\n",
              "      <td>-151.42</td>\n",
              "      <td>32190.32</td>\n",
              "    </tr>\n",
              "    <tr>\n",
              "      <th>67265</th>\n",
              "      <td>36.9</td>\n",
              "      <td>637.67</td>\n",
              "      <td>4755.74</td>\n",
              "      <td>1244.27</td>\n",
              "      <td>9164.25</td>\n",
              "      <td>1058.40</td>\n",
              "      <td>4897.53</td>\n",
              "      <td>0.0</td>\n",
              "      <td>561.40</td>\n",
              "      <td>0.0</td>\n",
              "      <td>7772.89</td>\n",
              "      <td>223.00</td>\n",
              "      <td>1286.04</td>\n",
              "      <td>0.0</td>\n",
              "      <td>-159.21</td>\n",
              "      <td>31478.88</td>\n",
              "    </tr>\n",
              "    <tr>\n",
              "      <th>67266</th>\n",
              "      <td>36.6</td>\n",
              "      <td>651.68</td>\n",
              "      <td>4765.78</td>\n",
              "      <td>1243.95</td>\n",
              "      <td>9240.85</td>\n",
              "      <td>1026.27</td>\n",
              "      <td>4426.24</td>\n",
              "      <td>0.0</td>\n",
              "      <td>567.91</td>\n",
              "      <td>0.0</td>\n",
              "      <td>7785.29</td>\n",
              "      <td>220.80</td>\n",
              "      <td>1219.27</td>\n",
              "      <td>0.0</td>\n",
              "      <td>-169.87</td>\n",
              "      <td>31014.77</td>\n",
              "    </tr>\n",
              "    <tr>\n",
              "      <th>67267</th>\n",
              "      <td>37.2</td>\n",
              "      <td>653.61</td>\n",
              "      <td>4852.70</td>\n",
              "      <td>1231.10</td>\n",
              "      <td>9189.95</td>\n",
              "      <td>964.30</td>\n",
              "      <td>3631.73</td>\n",
              "      <td>0.0</td>\n",
              "      <td>576.87</td>\n",
              "      <td>0.0</td>\n",
              "      <td>7778.35</td>\n",
              "      <td>220.79</td>\n",
              "      <td>1201.60</td>\n",
              "      <td>0.0</td>\n",
              "      <td>0.00</td>\n",
              "      <td>30338.20</td>\n",
              "    </tr>\n",
              "  </tbody>\n",
              "</table>\n",
              "<p>67268 rows × 16 columns</p>\n",
              "</div>"
            ],
            "text/plain": [
              "       fueloil  blackCoal  lignite  ...  sun  importExport     total\n",
              "0         29.2       0.00   551.00  ...  0.0          0.00   4781.73\n",
              "1         29.1       0.00   544.00  ...  0.0          0.00   4724.96\n",
              "2         29.1       0.00   547.00  ...  0.0          0.00   4538.70\n",
              "3         29.0       0.00   547.00  ...  0.0          0.00   4280.80\n",
              "4         28.3       0.00   549.00  ...  0.0          0.00   4111.04\n",
              "...        ...        ...      ...  ...  ...           ...       ...\n",
              "67263     36.3     625.95  4916.02  ...  0.0       -167.33  33005.46\n",
              "67264     36.2     620.18  4808.25  ...  0.0       -151.42  32190.32\n",
              "67265     36.9     637.67  4755.74  ...  0.0       -159.21  31478.88\n",
              "67266     36.6     651.68  4765.78  ...  0.0       -169.87  31014.77\n",
              "67267     37.2     653.61  4852.70  ...  0.0          0.00  30338.20\n",
              "\n",
              "[67268 rows x 16 columns]"
            ]
          },
          "metadata": {
            "tags": []
          },
          "execution_count": 7
        }
      ]
    },
    {
      "cell_type": "code",
      "metadata": {
        "id": "H9OAdsuSxPSl"
      },
      "source": [
        "new_data = new_data.to_numpy()"
      ],
      "execution_count": 8,
      "outputs": []
    },
    {
      "cell_type": "markdown",
      "metadata": {
        "id": "w_4GBZbldZX-"
      },
      "source": [
        "To-do:\r\n",
        "  Get the data in such a format that it can work with the other notebook.\r\n",
        "  \r\n",
        "  1- Extract the date element.\r\n",
        "\r\n",
        "  2- Normalize all features in the input part of the data.\r\n",
        "\r\n",
        "  3- Create the inputs and the targets.\r\n",
        "\r\n",
        "  4- Create train and test sets.\r\n",
        "\r\n",
        "  5- \r\n",
        "\r\n",
        "  6- "
      ]
    },
    {
      "cell_type": "code",
      "metadata": {
        "id": "szubISeMboQM"
      },
      "source": [
        "# convert series to supervised learning\r\n",
        "def series_to_supervised(data, n_in=1, n_out=1, dropnan=True):\r\n",
        "\tn_vars = 1 if type(data) is list else data.shape[1]\r\n",
        "\tdf = DataFrame(data)\r\n",
        "\tcols, names = list(), list()\r\n",
        "\t# input sequence (t-n, ... t-1)\r\n",
        "\tfor i in range(n_in, 0, -1):\r\n",
        "\t\tcols.append(df.shift(i))\r\n",
        "\t\tnames += [('var%d(t-%d)' % (j+1, i)) for j in range(n_vars)]\r\n",
        "\t# forecast sequence (t, t+1, ... t+n)\r\n",
        "\tfor i in range(0, n_out):\r\n",
        "\t\tcols.append(df.shift(-i))\r\n",
        "\t\tif i == 0:\r\n",
        "\t\t\tnames += [('var%d(t)' % (j+1)) for j in range(n_vars)]\r\n",
        "\t\telse:\r\n",
        "\t\t\tnames += [('var%d(t+%d)' % (j+1, i)) for j in range(n_vars)]\r\n",
        "\t# put it all together\r\n",
        "\tagg = concat(cols, axis=1)\r\n",
        "\tagg.columns = names\r\n",
        "\t# drop rows with NaN values\r\n",
        "\tif dropnan:\r\n",
        "\t\tagg.dropna(inplace=True)\r\n",
        "\treturn agg\r\n"
      ],
      "execution_count": 9,
      "outputs": []
    },
    {
      "cell_type": "code",
      "metadata": {
        "colab": {
          "base_uri": "https://localhost:8080/"
        },
        "id": "lz_o3Bf4boM1",
        "outputId": "76cb6bf9-3eb3-4b9b-8e5f-4e6220f41929"
      },
      "source": [
        "# integer encode direction\r\n",
        "#encoder = LabelEncoder()\r\n",
        "#values[:,4] = encoder.fit_transform(values[:,4])\r\n",
        "# ensure all data is float\r\n",
        "\r\n",
        "#values = values.astype('float32')\r\n",
        "# normalize features\r\n",
        "scaler = MinMaxScaler(feature_range=(0, 1))\r\n",
        "scaled = scaler.fit_transform(new_data)\r\n",
        "# specify the number of lag hours\r\n",
        "n_hours = 1\r\n",
        "n_features = 8\r\n",
        "# frame as supervised learning\r\n",
        "\r\n",
        "reframed = series_to_supervised(scaled, n_hours, 1)\r\n",
        "print(reframed.shape)"
      ],
      "execution_count": 10,
      "outputs": [
        {
          "output_type": "stream",
          "text": [
            "(67267, 32)\n"
          ],
          "name": "stdout"
        }
      ]
    },
    {
      "cell_type": "code",
      "metadata": {
        "id": "HmDHPWk343jJ"
      },
      "source": [
        "reframed = reframed.to_numpy()"
      ],
      "execution_count": 11,
      "outputs": []
    },
    {
      "cell_type": "code",
      "metadata": {
        "colab": {
          "base_uri": "https://localhost:8080/"
        },
        "id": "wR_bXll1JO-X",
        "outputId": "025dd0b3-7e8c-42c1-93e7-9add07d03064"
      },
      "source": [
        "n_train_hours = 50000\r\n",
        "train = reframed[:n_train_hours, :]\r\n",
        "test = reframed[n_train_hours:, :]\r\n",
        "# split into input and outputs\r\n",
        "n_obs = n_hours * n_features\r\n",
        "train_X, train_y = train[:, :n_obs], train[:, -n_features]\r\n",
        "test_X, test_y = test[:, :n_obs], test[:, -n_features]\r\n",
        "print(train_X.shape, len(train_X), train_y.shape)\r\n",
        "# reshape input to be 3D [samples, timesteps, features]\r\n",
        "train_X = train_X.reshape((train_X.shape[0], n_hours, n_features))\r\n",
        "test_X = test_X.reshape((test_X.shape[0], n_hours, n_features))\r\n",
        "print(train_X.shape, train_y.shape, test_X.shape, test_y.shape)\r\n"
      ],
      "execution_count": 12,
      "outputs": [
        {
          "output_type": "stream",
          "text": [
            "(50000, 8) 50000 (50000,)\n",
            "(50000, 1, 8) (50000,) (17267, 1, 8) (17267,)\n"
          ],
          "name": "stdout"
        }
      ]
    },
    {
      "cell_type": "code",
      "metadata": {
        "colab": {
          "base_uri": "https://localhost:8080/"
        },
        "id": "N-5gYhr6LGgT",
        "outputId": "318038e2-3648-439e-a12d-4476b374299d"
      },
      "source": [
        "train_X.shape[0]"
      ],
      "execution_count": 18,
      "outputs": [
        {
          "output_type": "execute_result",
          "data": {
            "text/plain": [
              "50000"
            ]
          },
          "metadata": {
            "tags": []
          },
          "execution_count": 18
        }
      ]
    },
    {
      "cell_type": "code",
      "metadata": {
        "colab": {
          "base_uri": "https://localhost:8080/"
        },
        "id": "z51TQBohLIJ3",
        "outputId": "01cbe5cb-6df2-4039-d5b6-b9d7344401d5"
      },
      "source": [
        "test_X.shape[0]"
      ],
      "execution_count": 19,
      "outputs": [
        {
          "output_type": "execute_result",
          "data": {
            "text/plain": [
              "17267"
            ]
          },
          "metadata": {
            "tags": []
          },
          "execution_count": 19
        }
      ]
    },
    {
      "cell_type": "code",
      "metadata": {
        "id": "48mDYPiiJfxt"
      },
      "source": [
        "class LSTM(nn.Module):\r\n",
        "\r\n",
        "  def __init__(self):\r\n",
        "    super(LSTM, self).__init__()\r\n",
        "\r\n",
        "    self.lstm = nn.LSTM(input_size=8, hidden_size=200, num_layers=2)\r\n",
        "    self.FC = nn.Linear(200, 1)\r\n",
        "\r\n",
        "  def forward(self, input):\r\n",
        "    pred, _ = self.lstm(input)\r\n",
        "\r\n",
        "    pred = self.FC(pred.view(200))\r\n",
        "\r\n",
        "    return pred"
      ],
      "execution_count": 24,
      "outputs": []
    },
    {
      "cell_type": "code",
      "metadata": {
        "id": "oF0ge_gOJiTi"
      },
      "source": [
        "model = LSTM()"
      ],
      "execution_count": 25,
      "outputs": []
    },
    {
      "cell_type": "code",
      "metadata": {
        "id": "7iuxhjBXJiQm"
      },
      "source": [
        "loss_function = nn.L1Loss()\r\n",
        "optimizer = optim.Adam(model.parameters(), lr=1e-5)"
      ],
      "execution_count": 26,
      "outputs": []
    },
    {
      "cell_type": "code",
      "metadata": {
        "id": "YwdaiI0bJiNY"
      },
      "source": [
        "train_loss_hist = []\r\n",
        "test_loss_hist = []"
      ],
      "execution_count": 27,
      "outputs": []
    },
    {
      "cell_type": "code",
      "metadata": {
        "id": "70IW6m21JiKJ"
      },
      "source": [
        "for epoch in range(20):\r\n",
        "  train_loss = 0.0\r\n",
        "  test_loss = 0.0\r\n",
        "\r\n",
        "  for i in range(train_X.shape[0]):\r\n",
        "    data = torch.Tensor(train_X[i]).unsqueeze(0)\r\n",
        "\r\n",
        "    optimizer.zero_grad()\r\n",
        "\r\n",
        "    prediction = model(data)\r\n",
        "\r\n",
        "    #print(\"Train --- prediction: \" + str(prediction) + \" , GT: \" + str(train_y[i]))\r\n",
        "\r\n",
        "    loss = loss_function(prediction, torch.Tensor([train_y[i]]))\r\n",
        "\r\n",
        "    train_loss += loss.item()\r\n",
        "\r\n",
        "    loss.backward()\r\n",
        "    optimizer.step()\r\n",
        "\r\n",
        "  with torch.no_grad():\r\n",
        "    for i in range(test_X.shape[0]):\r\n",
        "      data = torch.Tensor(test_X[i]).unsqueeze(0)\r\n",
        "\r\n",
        "      prediction = model(data)\r\n",
        "\r\n",
        "      #print(\"Validate --- prediction: \" + str(prediction) + \" , GT: \" + str(test_y[i]))\r\n",
        "\r\n",
        "      loss = loss_function(prediction, torch.Tensor([test_y[i]]))\r\n",
        "      test_loss += loss.item()\r\n",
        "\r\n",
        "  train_loss = train_loss / train_X.shape[0]\r\n",
        "  test_loss = test_loss / test_X.shape[0]\r\n",
        "\r\n",
        "  train_loss_hist.append(train_loss)\r\n",
        "  test_loss_hist.append(test_loss)\r\n",
        "\r\n",
        "  print(\"Train loss: \" +  str(train_loss) + \" --- Test loss: \" + str(test_loss))\r\n"
      ],
      "execution_count": null,
      "outputs": []
    },
    {
      "cell_type": "code",
      "metadata": {
        "id": "V0VMCc4zJiHN"
      },
      "source": [
        ""
      ],
      "execution_count": null,
      "outputs": []
    },
    {
      "cell_type": "code",
      "metadata": {
        "id": "6KFvJE4IJjhK"
      },
      "source": [
        ""
      ],
      "execution_count": null,
      "outputs": []
    },
    {
      "cell_type": "code",
      "metadata": {
        "id": "wMNzzBZ6JjeO"
      },
      "source": [
        ""
      ],
      "execution_count": null,
      "outputs": []
    },
    {
      "cell_type": "code",
      "metadata": {
        "id": "e2TG7y-XJjbF"
      },
      "source": [
        ""
      ],
      "execution_count": null,
      "outputs": []
    }
  ]
}